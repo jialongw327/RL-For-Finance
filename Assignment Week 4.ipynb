{
 "cells": [
  {
   "cell_type": "markdown",
   "metadata": {},
   "source": [
    "# Assignment 4"
   ]
  },
  {
   "cell_type": "markdown",
   "metadata": {},
   "source": [
    "## Utility Theory"
   ]
  },
  {
   "cell_type": "markdown",
   "metadata": {},
   "source": [
    "### Utility Consumption"
   ]
  },
  {
   "cell_type": "markdown",
   "metadata": {},
   "source": [
    "Utility of Consumption and Certainty-Equivalent ValueMarginal Satisfaction of eating cookies is a diminishing function. Hence, Accumulated Satisfaction is a concave function: Accumulated Satisfaction represents Utility of Consumption $U(x)$. The properties and related parameters are:\n",
    "\n",
    "\n",
    "- Utility function is concanve: $E[U(x)] \\leq U(E[x])$\n",
    "- Certainty-Equivalent Value: $x_{CE}=U^{-1}(E[U(x)])$\n",
    "- Absolute Risk-Premium: $\\pi_A=E[x]-x_{CE}$\n",
    "- Relative Risk-Premium: $\\pi_R=\\frac{\\pi_A}{E(x)}=1-\\frac{x_{CE}}{E[x]}$\n",
    "\n",
    "\n"
   ]
  },
  {
   "cell_type": "code",
   "execution_count": null,
   "metadata": {},
   "outputs": [],
   "source": []
  }
 ],
 "metadata": {
  "kernelspec": {
   "display_name": "Python 3",
   "language": "python",
   "name": "python3"
  },
  "language_info": {
   "codemirror_mode": {
    "name": "ipython",
    "version": 3
   },
   "file_extension": ".py",
   "mimetype": "text/x-python",
   "name": "python",
   "nbconvert_exporter": "python",
   "pygments_lexer": "ipython3",
   "version": "3.7.0"
  }
 },
 "nbformat": 4,
 "nbformat_minor": 2
}
