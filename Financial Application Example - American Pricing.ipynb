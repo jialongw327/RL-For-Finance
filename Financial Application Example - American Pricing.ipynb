{
 "cells": [
  {
   "cell_type": "markdown",
   "metadata": {},
   "source": [
    "# Financial Application - American Option Pricing "
   ]
  },
  {
   "cell_type": "markdown",
   "metadata": {},
   "source": [
    "## 1. Direct DP"
   ]
  },
  {
   "cell_type": "markdown",
   "metadata": {},
   "source": [
    "Consider a binary tree process of the stock price: $$ s _ { t + 1 } = \\left\\{ \\begin{array} { l l } { ( 1 + u ) s _ { t } } : \\quad { \\text { with probability } p = \\frac{e^{r d t} - 1 - d}{u - d} } \\\\ { ( 1 + d ) s _ { t }   } : \\quad { \\text { with probability } 1 - p } \\end{array} \\right. $$\n",
    "\n",
    "Let $r = 0.1$ and $dt = \\frac{1}{52}$."
   ]
  },
  {
   "cell_type": "code",
   "execution_count": 8,
   "metadata": {},
   "outputs": [
    {
     "name": "stdout",
     "output_type": "stream",
     "text": [
      "Value of an American Put: \n",
      "9.202953375761492\n"
     ]
    },
    {
     "data": {
      "image/png": "[encoded data removed]",
      "text/plain": [
       "<Figure size 432x288 with 1 Axes>"
      ]
     },
     "metadata": {
      "needs_background": "light"
     },
     "output_type": "display_data"
    }
   ],
   "source": [
    "import matplotlib.pyplot as plt\n",
    "import numpy as np\n",
    "\n",
    "\n",
    "class AmericanOptionDP():\n",
    "    \n",
    "    def __init__(self, T: int, p:float, u: float, d: float, K: float, s0: float) -> None:\n",
    "        self.T = T\n",
    "        self.p = p\n",
    "        self.u = u\n",
    "        self.d = d\n",
    "        self.K = K\n",
    "        self.s0 = s0\n",
    "        \n",
    "        \n",
    "    def find_matrices(self) -> np.array:\n",
    "        price_matrix =np.zeros((self.T+1, self.T+1))\n",
    "        cash_flow_matrix = np.zeros((self.T+1, self.T+1))\n",
    "        for i in range(T+1):\n",
    "            for j in range(i,T+1):\n",
    "                price_matrix[i, j] = ((1+u)**(i))*((1+d)**(j-i))\n",
    "                if (price_matrix[i, j]) != 0:\n",
    "                    cash_flow_matrix[i,j] = (self.K - self.s0*price_matrix[i, j])*((self.K - self.s0*price_matrix[i, j])>0)\n",
    "        self.price_matrix = price_matrix*self.s0\n",
    "        self.cash_flow_matrix = cash_flow_matrix\n",
    "        return price_matrix*self.s0, cash_flow_matrix\n",
    "    \n",
    "    def find_value_matrix(self) -> np.array:\n",
    "        value_matrix = self.cash_flow_matrix.copy()\n",
    "        action_matrix = np.zeros(value_matrix.shape)\n",
    "        for i in reversed(np.arange(self.T)):\n",
    "            next_values = value_matrix[:(i+2),i+1].copy()\n",
    "            current_values = value_matrix[:(i+1),i].copy()\n",
    "            expected_returns = (1 - self.p)*next_values[:-1] + self.p*next_values[1:]\n",
    "            \n",
    "            cur_exp_compare = np.concatenate((expected_returns.reshape(len(expected_returns),1), \n",
    "                                  current_values.reshape(len(current_values),1)),1 )\n",
    "            action_matrix[:(i+1),i] = np.apply_along_axis(np.argmax, 1,  cur_exp_compare)\n",
    "            \n",
    "            value_matrix[:(i+1),i] = np.apply_along_axis(max, 1,  cur_exp_compare)\n",
    "            \n",
    "            self.value_matrix = value_matrix\n",
    "            self.action_matrix = action_matrix\n",
    "        return action_matrix, value_matrix\n",
    "    \n",
    "    def find_max_price_sequence(self):\n",
    "        max_price_seq = np.zeros(T+1)\n",
    "        max_price_loc = sum(self.action_matrix) - 1\n",
    "        for i in np.arange(T+1):\n",
    "            if max_price_loc[i] == -1:\n",
    "                max_price_seq[i] = -1\n",
    "            else:\n",
    "                max_price_seq[i] = self.price_matrix[i - int(max_price_loc[i]),i]\n",
    "            \n",
    "        return max_price_seq, self.value_matrix[0,0]\n",
    "\n",
    "        \n",
    "if __name__ == '__main__':\n",
    "    T = 30\n",
    "    s0 = 100\n",
    "    u = 0.05\n",
    "    d = -0.03\n",
    "    p = 0.399\n",
    "    K = 105\n",
    "    \n",
    "    test = AmericanOptionDP(T,p,u,d,K,s0)\n",
    "    price_matrix, cash_flow_matrix = test.find_matrices()\n",
    "    action_matrix, value_matrix = test.find_value_matrix()\n",
    "    max_price_seq, temp = test.find_max_price_sequence()\n",
    "    print('Value of an American Put: ')\n",
    "    print(temp)\n",
    "    \n",
    "    start = len(max_price_seq[:-1][max_price_seq[:-1]==-1])\n",
    "    end = T-1\n",
    "    x_axis = np.linspace(start, end, end - start +1)\n",
    "    price = max_price_seq[max_price_seq>0]\n",
    "    plt.plot(x_axis, price)\n",
    "    plt.title('The maximum price to execuate the put option')\n",
    "    plt.ylabel('max price')\n",
    "    plt.xlabel('time')\n",
    "    plt.show()\n",
    "\n"
   ]
  },
  {
   "cell_type": "markdown",
   "metadata": {},
   "source": [
    "## 2. MDP with Policy Iteration"
   ]
  },
  {
   "cell_type": "code",
   "execution_count": 7,
   "metadata": {},
   "outputs": [
    {
     "name": "stdout",
     "output_type": "stream",
     "text": [
      "Value of an American Put by policy iteration: \n",
      "9.202953375761492\n"
     ]
    }
   ],
   "source": [
    "from Code.Processes.Markov.MDP_Refined import MDPRefined\n",
    "\n",
    "class AmericanOptionMDP():\n",
    "    \n",
    "     def __init__(self, T: int, p:float, u: float, d: float, K: float, s0: float)\\\n",
    "    -> None:\n",
    "        self.T = T\n",
    "        self.p = p\n",
    "        self.u = u\n",
    "        self.d = d\n",
    "        self.K = K\n",
    "        self.s0 = s0\n",
    "        \n",
    "    \n",
    "     def build_graph(self):\n",
    "        u = self.u\n",
    "        d = self.d\n",
    "        T = self.T\n",
    "        K = self.K\n",
    "        prob = self.p\n",
    "        state = [(((1.0 + u)**(t-i))*((1.0 + d)**i)*s0, t) for t in range(1,T+1) for i in range(t+1)]\n",
    "        tr = {s:{'Exercise':{'Terminal': (1.0, max([K - s[0], 0]))}, \\\n",
    "                             'Stay':{(round(s[0]*(1+u),10), s[1]+1):(prob, 0.0), \\\n",
    "                             (round(s[0]*(1+d),10), s[1]+1):(1 - prob, 0.0)} } \\\n",
    "                            if s[1] <= T-1 else \\\n",
    "     {'Exercise': {'Terminal': (1.0,  max([K - s[0],0]))}} for s in state}\n",
    "    \n",
    "        state = [(round(s[0],10),s[1]) for s in state]\n",
    "        tr = {(round(s[0],10), s[1]): v for s,v in tr.items()}\n",
    "        \n",
    "        state.append('Terminal')\n",
    "        tr['Terminal'] = {'Exercise': {'Terminal': (1.0, 0.0)}, 'Stay': {'Terminal': (1.0, 0.0)}}\n",
    "\n",
    "        return state, tr\n",
    "        \n",
    "\n",
    "if __name__ == '__main__':\n",
    "    T = 30\n",
    "    s0 = 100\n",
    "    u = 0.05\n",
    "    d = -0.03\n",
    "    p = 0.399\n",
    "    K = 105\n",
    "    \n",
    "    gamma = 1 \n",
    "    test = AmericanOptionMDP(T,p,u,d,K,s0)\n",
    "    state, tr = test.build_graph()\n",
    "    test_mdp = MDPRefined(tr, gamma)\n",
    "\n",
    "    #Generate Guess Policy\n",
    "    # Generate policy data\n",
    "    policy_data = {s: {'Exercise': 0.6, 'Stay': 0.4} if s[0] < 10 else {'Stay': 0.6, 'Exercise': 0.4} \\\n",
    "                   for s in test_mdp.nt_states if s[1]<T}\n",
    "    policy_data['Terminal'] = {'Exercise': 0.5, 'Stay': 0.5}\n",
    "    for s in state:\n",
    "        if s[1] == T:\n",
    "            policy_data[s] = {'Exercise': 1.0}\n",
    "\n",
    "\n",
    "    pol_opt= test_mdp.policy_iteration()\n",
    "    val_opt = test_mdp.find_value_func_dict(pol_opt)\n",
    "    val_list = [(k, v) for k,v in val_opt.items()]\n",
    "    print('Value of an American Put by policy iteration: ')\n",
    "    print(val_list[0][1]*p+ val_list[1][1]*(1-p))\n"
   ]
  },
  {
   "cell_type": "markdown",
   "metadata": {},
   "source": [
    "## RL Model Free Control"
   ]
  },
  {
   "cell_type": "code",
   "execution_count": null,
   "metadata": {},
   "outputs": [],
   "source": []
  },
  {
   "cell_type": "code",
   "execution_count": null,
   "metadata": {},
   "outputs": [],
   "source": []
  }
 ],
 "metadata": {
  "kernelspec": {
   "display_name": "Python 3",
   "language": "python",
   "name": "python3"
  },
  "language_info": {
   "codemirror_mode": {
    "name": "ipython",
    "version": 3
   },
   "file_extension": ".py",
   "mimetype": "text/x-python",
   "name": "python",
   "nbconvert_exporter": "python",
   "pygments_lexer": "ipython3",
   "version": "3.7.4"
  }
 },
 "nbformat": 4,
 "nbformat_minor": 2
}
