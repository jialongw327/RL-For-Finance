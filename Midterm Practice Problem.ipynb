{
 "cells": [
  {
   "cell_type": "markdown",
   "metadata": {},
   "source": [
    "# Midterm Practice Problem"
   ]
  },
  {
   "cell_type": "markdown",
   "metadata": {},
   "source": [
    "**(1) Formulate this problem as a Continuous States, Continuous Actions MDP by specifying it’s State Transitions, Rewards and Discount Factor. The problem then is to find the Optimal Policy.**"
   ]
  },
  {
   "cell_type": "markdown",
   "metadata": {},
   "source": [
    "We use $W_t $ to denote our wealth at time t. According to the wealth generation process, we can write the dynamics of the system as a summation of riskless and risky parts. \n",
    "\n",
    "The state transition is :\n",
    "$$W_{t+1} = (1+r_{risky}) \\cdot x_t + (1 + r)(W_t - x_t)$$\n",
    "where $r_{risky} \\sim \\mathcal N (\\mu, \\sigma^2)$\n",
    "\n",
    "The Reward is 0 for all $t= 0,1,...,T−1$ and the Reward at the final step $t=T$ is $U = -\\frac{e^{-a W_T}}{a}$.\n",
    "\n",
    "The Discount Factor is $\\gamma$."
   ]
  },
  {
   "cell_type": "markdown",
   "metadata": {},
   "source": [
    "**(2) As always, we strive to find the Optimal Value Function. The first step indetermining the Optimal Value Function is to write the Bellman Optimality Equation.**"
   ]
  },
  {
   "cell_type": "markdown",
   "metadata": {},
   "source": [
    "We can express the value function as: $$V(t, W_t) = \\max_{x_t} \\ \\gamma E \\left[ V(t+1,W_{t+1}) \\right] = \\max_{x_t} \\gamma E \\left[ V(t+1, (1+r_{risky}) \\cdot x_t + (1 + r)(W_t - x_t)) \\right]$$ \n",
    "\n",
    "Let $S_t = (r_{risky}-r) $, we would have\n",
    "$$V(t, W_t) = \\max_{x_t} \\gamma E \\left[ V(t+1, (1 + r)W_t + S_t x_t)) \\right]$$ \n",
    "\n",
    "Since our value function is the discounted utility of wealth, we can write it in another way: $$V(t,W_t) = \\gamma^{T-t} E \\left[U(W_T)|W_t \\right] = \\gamma^{T-t} E \\left[- \\frac { e ^ { - a W _ { T } } } { a }|W_t \\right]$$\n"
   ]
  },
  {
   "cell_type": "markdown",
   "metadata": {},
   "source": [
    "**(3) Assume the functional form for the Optimal Value Function is $- b _ { t } e ^ { - c_t W _ { t } }$ where $b_t$, $c_t$ are unknowns functions of only $t$. Express the Bellman Optimality Equation using this functional form for the Optimal Value Function.**"
   ]
  },
  {
   "cell_type": "markdown",
   "metadata": {},
   "source": [
    "Given the functional form, we have\n",
    "$$\n",
    "    V(t,W_t) = \n",
    "    \\max_{x_t} \\gamma E \\left[ - b_{ t+1 } e ^ { - c_{t+1} W_{ t+1 } }\\right]= \n",
    "    \\max_{x_t} \\gamma E \\left[ - b_{ t+1 } e ^ { - c_{t+1} ((1 + r)W_t + S_t x_t) }\\right]\n",
    "$$\n",
    "\n",
    "We already know that $r_{risky} \\sim \\mathcal N (\\mu, \\sigma^2)$, then $S_t = (r_{risky}-r) \\sim \\mathcal N (\\mu - r, \\sigma^2)$\n",
    "$$ V(t,W_t)  = \\max_{x_t} \\int - \\gamma b _ { t +1 } e ^ { - c_{t+1} ((1 + r)W_t + S_t x_t) } \\frac{1}{\\sqrt{2 \\pi \\sigma^2}} e^ {- \\frac{(S_t - (\\mu - r ))^2}{2 \\sigma^2}} d S_{t} $$\n",
    "$$ = \\max_{x_t} - \\frac{ \\gamma b _ { t +1 } e^{- c_{t+1}(1+r)W_t }} {\\sqrt{2 \\pi \\sigma^2}} \\int e ^ {-c_{t+1} x_t S_t - \\frac{(S_t - (\\mu - r ))^2}{2 \\sigma^2}} d S_t $$\n",
    "$$ = \\max_{x_t} - \\gamma \\cdot b _ { t +1 } e^{- c_{t+1}(1+r)W_t } \\cdot e ^{\\frac{1}{2} \\sigma^2 c_{t+1}^2 x_t^2 - (\\mu - r)c_{t+1} x_t} $$\n",
    "\n",
    "Notice that $$\n",
    "\\int e ^ {-c_{t+1} x_t S_t - \\frac{(S_t - (\\mu - r ))^2}{2 \\sigma^2}} d S_t $$ $$ = \\int e^{-\\frac{1}{2 \\sigma^2}(S_t -k)^2} \\cdot e^{\\left(\\frac{-k^2 + (k + c_{t+1}x_t \\sigma^2)^2}{2\\sigma^2}\\right)} d S_t\n",
    "$$\n",
    "\n",
    "where we completed the square and $k = (\\mu-r) -  c_{t+1}x_t \\sigma^2$, and now we have\n",
    "that $$\n",
    "\\int e ^ {-c_{t+1} x_t S_t - \\frac{(S_t - (\\mu - r ))^2}{2 \\sigma^2}} d S_t $$ $$  = \\left(\\sqrt{2 \\sigma^2}\\cdot \\sqrt{\\pi}\\right) \\cdot \\left( e^{-\\frac{1}{2 \\sigma^2} 2(\\mu - r)c_{t+1}x_t\\sigma^2} \\cdot\n",
    "e^{\\frac{1}{2 \\sigma^2} c_{t+1}^2x_t^2\\sigma^4} \\right)\\\\\n",
    "$$ $$ = \\sqrt{2 \\pi \\sigma^2} \\cdot e ^{\\frac{1}{2} \\sigma^2 c_{t+1}^2 x_t^2 - (\\mu - r)c_{t+1} x_t}\n",
    "$$\n",
    "\n",
    "Overall,\n",
    "$$V(t,W_t)  = \\max_{x_t} - \\gamma \\cdot b_{t+1} e^{-c_{t+1} W_{t}(1+r)-c_{t+1} x_t(\\mu - r) + \\frac {\\sigma ^ {2}}{2} c_{t+1}^{2} x_{t} ^ {2}}\n",
    "$$"
   ]
  },
  {
   "cell_type": "markdown",
   "metadata": {},
   "source": [
    "**(4) Since the right-hand-side of the Bellman Optimality Equation involves a max over $x_t$, we can say that the partial derivative of the term inside the max with respect to $x_t$ is 0. This enables us to write the Optimal Allocation$x_t^*$ in terms of $c_{t+1}$.**"
   ]
  },
  {
   "cell_type": "markdown",
   "metadata": {},
   "source": [
    "Take the partial derivative of $J = - \\gamma \\cdot b_{t+1} e^{-c_{t+1} W_{t}(1+r)-c_{t+1} x_t(\\mu - r) + \\frac {\\sigma ^ {2}}{2} c_{t+1}^{2} x_{t} ^ {2}}$ with respect to $x_t$, we get, \n",
    "$$\n",
    "-{c_{t+1}}(\\mu- r)+ \\sigma^2 {c_{t+1}}^2 x_t^{\\ast 2} = 0\n",
    "$$\n",
    "and\n",
    "$$x_t^{\\ast} = \\frac{\\mu - r}{\\sigma^2 c_{t+1}} $$"
   ]
  },
  {
   "cell_type": "markdown",
   "metadata": {},
   "source": [
    "**(5)Substituting this maximizing $x_t^*$ in the Bellman Optimality Equation enables us to express $b_t$ and $c_t$ as recursive equations in terms of $b_{t+1}$ and $c_{t+1}$ respectively.**"
   ]
  },
  {
   "cell_type": "markdown",
   "metadata": {},
   "source": [
    "Plugging in $x_t^*$ inTO the above equation for $V(t,Wt)$ gives:\n",
    "$$V^*(t, W_t) = $$"
   ]
  },
  {
   "cell_type": "code",
   "execution_count": null,
   "metadata": {},
   "outputs": [],
   "source": []
  }
 ],
 "metadata": {
  "kernelspec": {
   "display_name": "Python 3",
   "language": "python",
   "name": "python3"
  },
  "language_info": {
   "codemirror_mode": {
    "name": "ipython",
    "version": 3
   },
   "file_extension": ".py",
   "mimetype": "text/x-python",
   "name": "python",
   "nbconvert_exporter": "python",
   "pygments_lexer": "ipython3",
   "version": "3.7.4"
  }
 },
 "nbformat": 4,
 "nbformat_minor": 2
}
