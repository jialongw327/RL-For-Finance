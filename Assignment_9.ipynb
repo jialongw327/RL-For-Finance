{
 "cells": [
  {
   "cell_type": "markdown",
   "metadata": {},
   "source": [
    "# Assignment 9"
   ]
  },
  {
   "cell_type": "markdown",
   "metadata": {},
   "source": [
    "## Model Free Control"
   ]
  },
  {
   "cell_type": "markdown",
   "metadata": {},
   "source": [
    "### 10.1 Implement Forward-View TD(Lambda) algorithm for Value Function Prediction"
   ]
  },
  {
   "cell_type": "code",
   "execution_count": 100,
   "metadata": {},
   "outputs": [],
   "source": [
    "import numpy as np\n",
    "import random as random\n",
    "import matplotlib.pyplot as plt\n",
    "\n",
    "def Forward_TD_Lambda(sample_size, TD_path, Lambda, gamma, alpha = \"Default\"):\n",
    "    V, count = build_dict_TD(sample_size)\n",
    "\n",
    "    for episode in TD_path:\n",
    "        for j,i in enumerate(episode):\n",
    "            _, G_lambda = get_G_lambda(j,episode,V,gamma,Lambda)\n",
    "            #print(G_lambda)\n",
    "            s=i[0]\n",
    "            count[s] += 1\n",
    "            if alpha == \"Default\":\n",
    "                a = 1/count[s]\n",
    "            else:\n",
    "                a = alpha\n",
    "            V[s] = V[s] + a *(G_lambda - V[s])\n",
    "    return V\n"
   ]
  },
  {
   "cell_type": "code",
   "execution_count": 101,
   "metadata": {},
   "outputs": [],
   "source": [
    "def build_dict_TD(size):\n",
    "    value_dict={}\n",
    "    count_dict={}\n",
    "    for i in range(size):\n",
    "        value_dict[i]=0\n",
    "        count_dict[i]=0\n",
    "    return value_dict, count_dict"
   ]
  },
  {
   "cell_type": "code",
   "execution_count": 102,
   "metadata": {},
   "outputs": [],
   "source": [
    "def get_G_lambda(t,episode,V,gamma,Lambda):\n",
    "    # All timesteps starting from jth state\n",
    "    T  = len(episode)\n",
    "    len_G = T - t\n",
    "    G=[0]*len_G\n",
    "    for n in range(len_G):\n",
    "        #print(n)\n",
    "        for k in range(T - t):\n",
    "            if k <= n:\n",
    "                G[n] += episode[t + k][1] * gamma**(k)\n",
    "                #print(k)\n",
    "                #print(G[n])\n",
    "            if k == n and k < T - t - 1:\n",
    "                G[n] += V[episode[t + k + 1][0]] * gamma**(k + 1)\n",
    "                #print(k)\n",
    "                #print(G[n],'\\n')\n",
    "    G_Lambda = 0\n",
    "    for m in range(len(G)):\n",
    "        if m < len(G)-1:\n",
    "            G_Lambda += (1-Lambda)*(Lambda**m) * G[m]\n",
    "        else:\n",
    "            G_Lambda += (Lambda**m) * G[m]\n",
    "    return G, G_Lambda\n",
    "        "
   ]
  },
  {
   "cell_type": "code",
   "execution_count": 103,
   "metadata": {},
   "outputs": [],
   "source": [
    "#TD_path contains the data of episodes. Each episode there are (state, r) pairs.\n",
    "TD_path=[\n",
    "    [[0,5],[1,3],[3,2],[0,2],[5,2]],\n",
    "    [[0,3],[2,3],[4,3]],\n",
    "    [[1,6],[2,4],[4,3],[1,2],[5,2]],\n",
    "    [[1,6],[3,4],[4,3],[3,2],[0,2]],\n",
    "    [[1,6],[4,4],[4,3],[2,2],[1,2]],\n",
    "    [[1,6],[3,4],[4,3],[3,2],[0,2]],\n",
    "]"
   ]
  },
  {
   "cell_type": "code",
   "execution_count": 104,
   "metadata": {},
   "outputs": [
    {
     "name": "stdout",
     "output_type": "stream",
     "text": [
      "G_n is [6.8, 10.13, 10.049, 11.4341, 12.090200000000001] \n",
      " G_lambda= 7.133640710000001\n"
     ]
    }
   ],
   "source": [
    "#test get_G_lambda()\n",
    "episode=[[0,5],[1,3],[3,2],[0,2],[5,2]]\n",
    "V={0: 1.0, 1: 2.0, 2: 2.0, 3: 3.0, 4: 2.0, 5: 1.0}\n",
    "G, G_Lambda=get_G_lambda(0, episode, V, 0.9, 0.1)\n",
    "print(\"G_n is\",G,\"\\n G_lambda=\" ,G_Lambda)"
   ]
  },
  {
   "cell_type": "code",
   "execution_count": 105,
   "metadata": {},
   "outputs": [
    {
     "data": {
      "text/plain": [
       "{0: 2.952417844,\n",
       " 1: 8.028131271863701,\n",
       " 2: 6.457651846334045,\n",
       " 3: 7.418920907535256,\n",
       " 4: 8.333474088554961,\n",
       " 5: 2.0}"
      ]
     },
     "execution_count": 105,
     "metadata": {},
     "output_type": "execute_result"
    }
   ],
   "source": [
    "Forward_TD_Lambda(6,TD_path, 0.1, 0.9)"
   ]
  },
  {
   "cell_type": "markdown",
   "metadata": {},
   "source": [
    "### 10. Prove the Epsilon-Greedy Policy Improvement Theorem (we sketched the proof in Class)"
   ]
  },
  {
   "cell_type": "markdown",
   "metadata": {},
   "source": [
    "\n",
    "Denote $\\epsilon \\in (0,1)$ $${q_\\pi(s, \\pi'(s)) = \\Sigma_{a \\in A}\\pi'(a|s)q_{\\pi}(s,a)}$$ By the definition of q, we know\n",
    "$${q_\\pi(s, \\pi'(s)) = \\epsilon/m\\Sigma_{a \\in A}q_{\\pi}(s,a) + (1 - \\epsilon)max_{a \\in A}q_{\\pi}(s,a) \\\\ \\geq \\frac{\\epsilon}{m}\\Sigma_{a \\in A}q_{\\pi}(s,a) + (1 - \\epsilon)\\Sigma_{a \\in A}\\frac{\\pi(a|s) - \\epsilon/m}{1-\\epsilon}q_\\pi(a|s) \\\\ = \\Sigma_{a \\in A}\\pi(a|s)q_{\\pi}(s,a) = v_\\pi(s)}$$\n",
    "QED."
   ]
  },
  {
   "cell_type": "markdown",
   "metadata": {},
   "source": [
    "### 10. Provide (with clear mathematical notation) the defintion of GLIE (Greedy in the Limit with Infinite Exploration)"
   ]
  },
  {
   "cell_type": "markdown",
   "metadata": {},
   "source": [
    "- All state-action pairs are explored infinitely many times: $${lim_{k \\rightarrow \\infty}N_k(s,a) = \\infty}$$\n",
    "    The policy converges on a greedy policy: $$lim_{k \\rightarrow \\infty}\\pi_k(a|s) = 1(a = argmax_{a' \\in A}Q_k(s, a'))$$\n",
    "\n",
    "GLIE Monte-Carlo Control:\n",
    "\n",
    "- Sample kth episode using ${\\pi}$, for each state ${S_t}$ and action ${A_t}$ in the episode,\n",
    "    $${N(S_t, A_t) \\leftarrow N(S_t, A_t) + 1}$$ $${Q(S_t, A_t) \\leftarrow Q(S_t, A_t) + \\frac{1}{N(S_t, A_t)}(G_t - Q(S_t, A_t))}$$\n",
    "    Improve policy based on new action-value function: $${\\epsilon \\leftarrow \\frac{1}{k}}$$ $${\\pi \\leftarrow \\epsilon-greedy(Q)}$$\n"
   ]
  }
 ],
 "metadata": {
  "kernelspec": {
   "display_name": "Python 3",
   "language": "python",
   "name": "python3"
  },
  "language_info": {
   "codemirror_mode": {
    "name": "ipython",
    "version": 3
   },
   "file_extension": ".py",
   "mimetype": "text/x-python",
   "name": "python",
   "nbconvert_exporter": "python",
   "pygments_lexer": "ipython3",
   "version": "3.7.4"
  }
 },
 "nbformat": 4,
 "nbformat_minor": 2
}
