{
 "cells": [
  {
   "cell_type": "markdown",
   "metadata": {},
   "source": [
    "# Optimal Allocation and Consumption"
   ]
  },
  {
   "cell_type": "markdown",
   "metadata": {},
   "source": [
    "## 6.1 Merton's Portfolio"
   ]
  },
  {
   "cell_type": "markdown",
   "metadata": {},
   "source": [
    "### 6.1.1 Problem Statement"
   ]
  },
  {
   "cell_type": "markdown",
   "metadata": {},
   "source": [
    "Information and assumptions: \n",
    "- In a lifetime of (deterministic) $T$ years, one can invest in (allocate to) $n$ risky assets and a riskless asset with known normal distribution of returns. \n",
    "- Current Wealth plus present value of the future income (less debt) is $W_0 > 0$.\n",
    "- Allowed to long or short any fractional quantities of assets.\n",
    "- Trading in continuous time $0\\leq t <T$, with no transaction costs.\n",
    "\n",
    "Goal: To maximize lifetime-aggregated utility of consumption."
   ]
  },
  {
   "cell_type": "code",
   "execution_count": null,
   "metadata": {},
   "outputs": [],
   "source": []
  }
 ],
 "metadata": {
  "kernelspec": {
   "display_name": "Python 3",
   "language": "python",
   "name": "python3"
  },
  "language_info": {
   "codemirror_mode": {
    "name": "ipython",
    "version": 3
   },
   "file_extension": ".py",
   "mimetype": "text/x-python",
   "name": "python",
   "nbconvert_exporter": "python",
   "pygments_lexer": "ipython3",
   "version": "3.7.4"
  }
 },
 "nbformat": 4,
 "nbformat_minor": 2
}
