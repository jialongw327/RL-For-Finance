{
 "cells": [
  {
   "cell_type": "markdown",
   "metadata": {},
   "source": [
    "## A Simple Linear Impact Model with No Risk-Aversion"
   ]
  },
  {
   "cell_type": "markdown",
   "metadata": {},
   "source": [
    "Price Dynamics: $P_{t+1}=P_t−\\alpha N_t + \\epsilon_t$ where $\\alpha \\in \\mathbb{R}_{\\geq 0}$"
   ]
  },
  {
   "cell_type": "markdown",
   "metadata": {},
   "source": [
    "Utility function $U(\\cdot)$ is the identity function, i.e., no Risk-Aversion\n",
    "\n",
    "MDP Discount factor $\\gamma=1$"
   ]
  },
  {
   "cell_type": "code",
   "execution_count": 3,
   "metadata": {},
   "outputs": [
    {
     "name": "stdout",
     "output_type": "stream",
     "text": [
      "Q_value for the first day is= 151.20000000000002\n",
      "Optimal shares to sell everyday: [54, 0, 0, 0, 0, 0]\n",
      "Q_value for the first day is= 2484.1236864288785\n",
      "Optimal shares to sell everyday: [22, 18, 8, 8, 4, 0]\n",
      "Q_value for the first day is= 2555.2742859028112\n",
      "Optimal shares to sell everyday: [16, 14, 14, 8, 8, 0]\n",
      "Q_value for the first day is= 2635.5891947129153\n",
      "Optimal shares to sell everyday: [17, 12, 12, 10, 9, 0]\n",
      "Q_value for the first day is= 2632.2919364125923\n",
      "Optimal shares to sell everyday: [13, 12, 10, 11, 14, 0]\n",
      "Q_value for the first day is= 2629.4136446729167\n",
      "Optimal shares to sell everyday: [12, 16, 10, 14, 8, 0]\n",
      "Q_value for the first day is= 2604.6628121232634\n",
      "Optimal shares to sell everyday: [13, 17, 12, 11, 7, 0]\n",
      "Q_value for the first day is= 2636.2232857613176\n",
      "Optimal shares to sell everyday: [14, 12, 7, 12, 15, 0]\n",
      "Q_value for the first day is= 2640.2348493327804\n",
      "Optimal shares to sell everyday: [12, 12, 12, 11, 13, 0]\n",
      "Q_value for the first day is= 2625.4247933684655\n",
      "Optimal shares to sell everyday: [13, 14, 10, 10, 13, 0]\n"
     ]
    },
    {
     "data": {
      "image/png": "[encoded data removed]",
      "text/plain": [
       "<Figure size 1152x504 with 1 Axes>"
      ]
     },
     "metadata": {
      "needs_background": "light"
     },
     "output_type": "display_data"
    }
   ],
   "source": [
    "import numpy as np\n",
    "import numpy.random as random\n",
    "import matplotlib.pyplot as plt\n",
    "\n",
    "class TradeExecution():\n",
    "    def __init__(self):\n",
    "        self.iteration = 3000000\n",
    "        \n",
    "        self.T_size = 6 # length of Time\n",
    "        self.P_size = 100 # Size of Spread of Prices\n",
    "        self.N_size = 60 # Total number of shares to sell\n",
    "        self.Start_Price = 80 # Bid Price at Start\n",
    "        self.gamma = 1\n",
    "        self.alpha = 0.1 # Stepsize\n",
    "        self.epsilon = 0.5\n",
    "        \n",
    "    def build_qv_fun_dict(self) :\n",
    "        # i : t, j : P_t, k : R_t, l: N_t, l's value: U_t\n",
    "        Q = {(i, j, k): {l : 0 for l in range(self.N_size+1)} for i in range(self.T_size)\\\n",
    "             for j in range(self.P_size) for k in range(self.N_size+1)\\\n",
    "             } \n",
    "        return Q\n",
    "    \n",
    "    def build_action_dict(self):\n",
    "        A = {(i, j, k): random.randint(0, k+1) for i in range(self.T_size)\\\n",
    "             for j in range(self.P_size) for k in range(self.N_size+1)}\n",
    "        return A\n",
    "        \n",
    "        \n",
    "    def simulator(self, Rt, Pt, Nt) -> (float, float, float):\n",
    "        alpha=1\n",
    "        error=np.random.binomial(10, 0.5, size=None)-5\n",
    "        Pt = int(Pt - alpha * Nt - error)\n",
    "        if Pt < 0:\n",
    "            Pt = 0\n",
    "        Rt = Rt - Nt\n",
    "        reward = Nt * (Pt)\n",
    "\n",
    "        return Rt, Pt, reward\n",
    "        \n",
    "    \n",
    "    \n",
    "    def Episode(self, Q, A, epsilon, method=\"Q-learning\"):\n",
    "                 \n",
    "        #Set s0 as the starting state\n",
    "        t = 0\n",
    "        Pt = self.Start_Price\n",
    "        Rt = self.N_size\n",
    "                 \n",
    "        best_action=max(Q[(t, Pt, Rt)], key = Q[(t, Pt, Rt)].get)\n",
    "            \n",
    "        # Apply Epsilon-Greedy Strategy here \n",
    "        if random.uniform(0, 1)<epsilon:\n",
    "            A[(t, Pt, Rt)]= random.randint(0, Rt+1)\n",
    "        else:\n",
    "            A[(t, Pt, Rt)]= best_action \n",
    "                \n",
    "        while t<self.T_size-1 and Rt > 0:  \n",
    "                \n",
    "            Nt = A[(t, Pt, Rt)] # Sample action a_t from policy π(st)\n",
    "                \n",
    "            #Simulate and observe reward rt and next state st+1\n",
    "            Rt_next, Pt_next, reward= self.simulator(Rt, Pt, Nt)\n",
    "                            \n",
    "            t_next=t+1\n",
    "                \n",
    "            best_action=max(Q[(t_next, Pt_next, Rt_next)], \\\n",
    "                                  key=Q[(t_next, Pt_next, Rt_next)].get)\n",
    "            \n",
    "            if method == \"Q-learning\":\n",
    "                Qmax = Q[(t_next, Pt_next, Rt_next)][best_action]\n",
    "                Qnow = Q[(t, Pt, Rt)][Nt]\n",
    "                Q[(t, Pt, Rt)][Nt]=Qnow+self.alpha*(reward\\\n",
    "                             +self.gamma*Qmax-Qnow)\n",
    "            if method == \"Sarsa\":\n",
    "                Nt_next = A[(t_next, Pt_next, Rt_next)]\n",
    "                Qnow = Q[(t, Pt, Rt)][Nt]\n",
    "                Qnext = Q[(t_next, Pt_next, Rt_next)][Nt_next]\n",
    "                Q[(t, Pt, Rt)][Nt] = Qnow+\\\n",
    "                        self.alpha*(reward+self.gamma*Qnext-Qnow)\n",
    "                \n",
    "            #update S\n",
    "            t = t_next\n",
    "            Pt = Pt_next\n",
    "            Rt = Rt_next\n",
    "                \n",
    "            if random.uniform(0, 1)<epsilon:\n",
    "                A[(t, Pt, Rt)] = random.randint(0, Rt+1)\n",
    "            else:\n",
    "                A[(t, Pt, Rt)] = best_action \n",
    "        \n",
    "        return Q, A\n",
    "                \n",
    "        \n",
    "    def Algorithm(self, method):\n",
    "        Q = self.build_qv_fun_dict()\n",
    "        A = self.build_action_dict()\n",
    "        #epsilon = 0.15\n",
    "        \n",
    "        iteration = []\n",
    "        Q_plot = []\n",
    " \n",
    "        \n",
    "        for i in range(self.iteration):\n",
    "            \n",
    "            epsilon=1-i/self.iteration\n",
    "            \n",
    "            Q, A = self.Episode(Q, A, epsilon, method)\n",
    "            #print(Q)\n",
    "            \n",
    "            #Plotting \n",
    "            if i % (self.iteration/10) == 0:\n",
    "                first_day_sell=max(Q[(0, self.Start_Price, self.N_size)], \\\n",
    "                    key=Q[(0, self.Start_Price, self.N_size)].get)\n",
    "                print(\"Q_value for the first day is=\", Q[(0, self.Start_Price, self.N_size)][first_day_sell])\n",
    "    \n",
    "                shares_sold_daily=[first_day_sell] \n",
    "                sell=first_day_sell\n",
    "                remain=self.N_size-sell\n",
    "                price=self.Start_Price-sell\n",
    "                \n",
    "                for j in range(1, self.T_size):\n",
    "                    sell=max(Q[(j, price, remain)], \\\n",
    "                               key=Q[(j, price, remain)].get)\n",
    "                    shares_sold_daily.append(sell)\n",
    "                    remain=remain-sell\n",
    "                    price=price-sell\n",
    "                print(\"Optimal shares to sell everyday:\", shares_sold_daily)\n",
    "                \n",
    "            if i % (self.iteration/1000)==0:\n",
    "                \n",
    "                iteration.append(i/1000)\n",
    "                first_day_sell=max(Q[(0, self.Start_Price, self.N_size)], \\\n",
    "                        key=Q[(0, self.Start_Price, self.N_size)].get)\n",
    "                Q_plot.append(Q[(0, self.Start_Price, self.N_size)][first_day_sell])\n",
    " \n",
    "       \n",
    "        plt.figure(figsize=(16,7))\n",
    "        plt.subplot(121)\n",
    "        plt.plot(iteration,Q_plot)\n",
    "        plt.grid(True)\n",
    "        plt.xlabel(\"Iteration(k)\")\n",
    "        plt.ylabel(\"Q-value\")\n",
    "        plt.title(\"Q-value changes\")\n",
    "\n",
    "        \n",
    "        \n",
    "obj = TradeExecution()\n",
    "obj.Algorithm(\"Q-learning\")"
   ]
  },
  {
   "cell_type": "code",
   "execution_count": 4,
   "metadata": {},
   "outputs": [
    {
     "name": "stdout",
     "output_type": "stream",
     "text": [
      "Q_value for the first day is= 154.0\n",
      "Optimal shares to sell everyday: [55, 0, 0, 0, 0, 0]\n",
      "Q_value for the first day is= 2162.448504901721\n",
      "Optimal shares to sell everyday: [33, 15, 8, 4, 0, 0]\n",
      "Q_value for the first day is= 2311.106191703756\n",
      "Optimal shares to sell everyday: [22, 19, 10, 9, 0, 0]\n",
      "Q_value for the first day is= 2326.0963568518946\n",
      "Optimal shares to sell everyday: [28, 12, 11, 7, 2, 0]\n",
      "Q_value for the first day is= 2342.993941524794\n",
      "Optimal shares to sell everyday: [24, 15, 8, 10, 3, 0]\n",
      "Q_value for the first day is= 2389.4957393710015\n",
      "Optimal shares to sell everyday: [24, 13, 9, 7, 7, 0]\n",
      "Q_value for the first day is= 2431.5418428080416\n",
      "Optimal shares to sell everyday: [24, 10, 13, 9, 4, 0]\n",
      "Q_value for the first day is= 2480.0062243620664\n",
      "Optimal shares to sell everyday: [16, 14, 11, 10, 9, 0]\n",
      "Q_value for the first day is= 2525.409710155\n",
      "Optimal shares to sell everyday: [18, 13, 15, 8, 6, 0]\n",
      "Q_value for the first day is= 2559.108866510121\n",
      "Optimal shares to sell everyday: [20, 10, 10, 13, 7, 0]\n"
     ]
    },
    {
     "data": {
      "image/png": "[encoded data removed]",
      "text/plain": [
       "<Figure size 1152x504 with 1 Axes>"
      ]
     },
     "metadata": {
      "needs_background": "light"
     },
     "output_type": "display_data"
    }
   ],
   "source": [
    "obj = TradeExecution()\n",
    "obj.Algorithm(\"Sarsa\")"
   ]
  },
  {
   "cell_type": "code",
   "execution_count": null,
   "metadata": {},
   "outputs": [],
   "source": []
  }
 ],
 "metadata": {
  "kernelspec": {
   "display_name": "Python 3",
   "language": "python",
   "name": "python3"
  },
  "language_info": {
   "codemirror_mode": {
    "name": "ipython",
    "version": 3
   },
   "file_extension": ".py",
   "mimetype": "text/x-python",
   "name": "python",
   "nbconvert_exporter": "python",
   "pygments_lexer": "ipython3",
   "version": "3.7.4"
  }
 },
 "nbformat": 4,
 "nbformat_minor": 2
}
