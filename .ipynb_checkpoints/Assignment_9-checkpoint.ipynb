{
 "cells": [
  {
   "cell_type": "markdown",
   "metadata": {},
   "source": [
    "# Assignment 9"
   ]
  },
  {
   "cell_type": "markdown",
   "metadata": {},
   "source": [
    "## Model Free Control"
   ]
  },
  {
   "cell_type": "markdown",
   "metadata": {},
   "source": [
    "### 10.1 Prove the Epsilon-Greedy Policy Improvement Theorem (we sketched the proof in Class)"
   ]
  },
  {
   "cell_type": "markdown",
   "metadata": {},
   "source": [
    "\n",
    "Denote $\\epsilon \\in (0,1)$ $${q_\\pi(s, \\pi'(s)) = \\Sigma_{a \\in A}\\pi'(a|s)q_{\\pi}(s,a)}$$ By the definition of q, we know\n",
    "$${q_\\pi(s, \\pi'(s)) = \\epsilon/m\\Sigma_{a \\in A}q_{\\pi}(s,a) + (1 - \\epsilon)max_{a \\in A}q_{\\pi}(s,a) \\\\ \\geq \\frac{\\epsilon}{m}\\Sigma_{a \\in A}q_{\\pi}(s,a) + (1 - \\epsilon)\\Sigma_{a \\in A}\\frac{\\pi(a|s) - \\epsilon/m}{1-\\epsilon}q_\\pi(a|s) \\\\ = \\Sigma_{a \\in A}\\pi(a|s)q_{\\pi}(s,a) = v_\\pi(s)}$$\n",
    "QED."
   ]
  },
  {
   "cell_type": "markdown",
   "metadata": {},
   "source": [
    "## 2.Provide (with clear mathematical notation) the defintion of GLIE (Greedy in the Limit with Infinite Exploration)"
   ]
  },
  {
   "cell_type": "markdown",
   "metadata": {},
   "source": [
    "- All state-action pairs are explored infinitely many times: $${lim_{k \\rightarrow \\infty}N_k(s,a) = \\infty}$$\n",
    "    The policy converges on a greedy policy: $$lim_{k \\rightarrow \\infty}\\pi_k(a|s) = 1(a = argmax_{a' \\in A}Q_k(s, a'))$$\n",
    "\n",
    "GLIE Monte-Carlo Control:\n",
    "\n",
    "- Sample kth episode using ${\\pi}$, for each state ${S_t}$ and action ${A_t}$ in the episode,\n",
    "    $${N(S_t, A_t) \\leftarrow N(S_t, A_t) + 1}$$ $${Q(S_t, A_t) \\leftarrow Q(S_t, A_t) + \\frac{1}{N(S_t, A_t)}(G_t - Q(S_t, A_t))}$$\n",
    "    Improve policy based on new action-value function: $${\\epsilon \\leftarrow \\frac{1}{k}}$$ $${\\pi \\leftarrow \\epsilon-greedy(Q)}$$\n"
   ]
  },
  {
   "cell_type": "code",
   "execution_count": null,
   "metadata": {},
   "outputs": [],
   "source": []
  }
 ],
 "metadata": {
  "kernelspec": {
   "display_name": "Python 3",
   "language": "python",
   "name": "python3"
  },
  "language_info": {
   "codemirror_mode": {
    "name": "ipython",
    "version": 3
   },
   "file_extension": ".py",
   "mimetype": "text/x-python",
   "name": "python",
   "nbconvert_exporter": "python",
   "pygments_lexer": "ipython3",
   "version": "3.7.4"
  }
 },
 "nbformat": 4,
 "nbformat_minor": 2
}
