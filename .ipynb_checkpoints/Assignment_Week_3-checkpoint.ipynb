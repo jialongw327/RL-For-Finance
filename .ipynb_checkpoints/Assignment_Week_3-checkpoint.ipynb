{
 "cells": [
  {
   "cell_type": "markdown",
   "metadata": {},
   "source": [
    "# Assignment 3"
   ]
  },
  {
   "cell_type": "markdown",
   "metadata": {},
   "source": [
    "## Dynamic Programming (DP)"
   ]
  },
  {
   "cell_type": "markdown",
   "metadata": {},
   "source": [
    "### 4.1 Iterative Policy Evaluation"
   ]
  },
  {
   "cell_type": "markdown",
   "metadata": {},
   "source": [
    "\n",
    "- Problem: evaluate a given policy $\\pi$\n",
    "- Solution: iterative application of Bellman expectation backup\n",
    "\n",
    "$$v_{k+1}= R_\\pi + \\gamma  P_\\pi v_k$$\n"
   ]
  },
  {
   "cell_type": "code",
   "execution_count": null,
   "metadata": {},
   "outputs": [],
   "source": [
    "def find_iterative_policy_evaluation(self, pol:Policy) -> np.array:\n",
    "    # Iterative way to find the value functions given a policy\n",
    "    mrp = self.find_mrp(pol)\n",
    "    v0 = np.zeros(len(self.states))\n",
    "    converge = False\n",
    "    while not converge:\n",
    "        v1 = mrp.reward_vector + self.gamma*mrp.transition_matrix.dot(v0)\n",
    "        converge = is_approx_eq(np.linalg.norm(v1), np.linalg.norm(v0))\n",
    "        v0 = v1\n",
    "    return v1"
   ]
  },
  {
   "cell_type": "markdown",
   "metadata": {},
   "source": [
    "### 4.2 Policy Iteration"
   ]
  },
  {
   "cell_type": "markdown",
   "metadata": {},
   "source": [
    "- Policy evaluation: estimate $v_\\pi$ by some policy evaluation algorithm (e.g. iterative)\n",
    "- Policy improvement: generate $\\pi' \\geq \\pi$ by some policy improvement algorithm (e.g. greedy)"
   ]
  },
  {
   "cell_type": "code",
   "execution_count": null,
   "metadata": {},
   "outputs": [],
   "source": []
  },
  {
   "cell_type": "markdown",
   "metadata": {},
   "source": [
    "### 4.3 Value Iteration"
   ]
  },
  {
   "cell_type": "markdown",
   "metadata": {},
   "source": [
    "\n",
    "- Problem: find optimal policy $\\pi$.\n",
    "- Solution: iterative application of Bellman optimality backup.\n",
    "\n",
    "$$v_{k+1}=\\max_{a \\in  A}  R^a + \\gamma  P^av_k$$\n"
   ]
  },
  {
   "cell_type": "code",
   "execution_count": null,
   "metadata": {},
   "outputs": [],
   "source": []
  }
 ],
 "metadata": {
  "kernelspec": {
   "display_name": "Python 3",
   "language": "python",
   "name": "python3"
  },
  "language_info": {
   "codemirror_mode": {
    "name": "ipython",
    "version": 3
   },
   "file_extension": ".py",
   "mimetype": "text/x-python",
   "name": "python",
   "nbconvert_exporter": "python",
   "pygments_lexer": "ipython3",
   "version": "3.7.4"
  }
 },
 "nbformat": 4,
 "nbformat_minor": 2
}
