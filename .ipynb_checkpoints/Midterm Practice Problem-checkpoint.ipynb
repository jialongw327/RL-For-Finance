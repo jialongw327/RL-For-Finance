{
 "cells": [
  {
   "cell_type": "markdown",
   "metadata": {},
   "source": [
    "# Midterm Practice Problem"
   ]
  },
  {
   "cell_type": "markdown",
   "metadata": {},
   "source": [
    "**(1) Formulate this problem as a Continuous States, Continuous Actions MDP by specifying it’s State Transitions, Rewards and Discount Factor. The problem then is to find the Optimal Policy.**"
   ]
  },
  {
   "cell_type": "markdown",
   "metadata": {},
   "source": [
    "We use $W_t $ to denote our wealth at time t. According to the wealth generation process, we can write the dynamics of the system as a summation of riskless and risky parts. \n",
    "\n",
    "The state transition is :\n",
    "$$W_{t+1} = (1+r_{risky}) \\cdot x_t + (1 + r)(W_t - x_t)$$\n",
    "where $r_{risky} \\sim \\mathcal N (\\mu, \\sigma^2)$\n",
    "\n",
    "The Reward is 0 for all $t= 0,1,...,T−1$ and the Reward at the final step $t=T$ is $U = -\\frac{e^{-a W_T}}{a}$.\n",
    "\n",
    "The Discount Factor is $\\gamma$."
   ]
  },
  {
   "cell_type": "code",
   "execution_count": null,
   "metadata": {},
   "outputs": [],
   "source": []
  }
 ],
 "metadata": {
  "kernelspec": {
   "display_name": "Python 3",
   "language": "python",
   "name": "python3"
  },
  "language_info": {
   "codemirror_mode": {
    "name": "ipython",
    "version": 3
   },
   "file_extension": ".py",
   "mimetype": "text/x-python",
   "name": "python",
   "nbconvert_exporter": "python",
   "pygments_lexer": "ipython3",
   "version": "3.7.4"
  }
 },
 "nbformat": 4,
 "nbformat_minor": 2
}
