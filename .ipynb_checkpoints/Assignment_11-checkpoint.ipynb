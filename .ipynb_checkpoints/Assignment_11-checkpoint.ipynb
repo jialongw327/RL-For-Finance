{
 "cells": [
  {
   "cell_type": "markdown",
   "metadata": {},
   "source": [
    "# Assignment 11"
   ]
  },
  {
   "cell_type": "markdown",
   "metadata": {},
   "source": [
    "## 12.1 Policy Gradient Theorem"
   ]
  },
  {
   "cell_type": "markdown",
   "metadata": {},
   "source": [
    "### 12.1.1 Write Proof (with precise notation) of the Policy Gradient Theorem"
   ]
  },
  {
   "cell_type": "markdown",
   "metadata": {},
   "source": [
    "The goal of the policy gradient theorem is to find a policy that can maximize our expected returns. Thus, we denote our expected return, as a function of the parameters in $\\pi(a,s;\\theta)$ as:\n",
    "$$ J(\\theta)=\\int_{\\mathcal{S}} p_{0}\\left(s_{0}\\right) \\cdot V^{\\pi}\\left(s_{0}\\right) \\cdot d s_{0}=\\int_{\\mathcal{S}} p_{0}\\left(s_{0}\\right) \\int_{\\mathcal{A}} \\pi\\left(s_{0}, a_{0} ; \\theta\\right) \\cdot Q^{\\pi}\\left(s_{0}, a_{0}\\right) \\cdot d a_{0} \\cdot d s_{0} $$\n",
    "\n",
    "The next step is to adjust the parameter $\\theta$ so that we can incease $ J(\\theta) $. We can use gradient ascent as an algorithm for adjustment, i.e. take gradient of $J(\\theta)$ w.r.t $\\theta$: $\\nabla_{\\theta} J(\\theta)$\n",
    "\n",
    "Expand this formula, we get: $$ \\begin{aligned} \\nabla_{\\theta} J(\\theta)=\\int_{\\mathcal{S}} p_{0}\\left(s_{0}\\right) \\int_{\\mathcal{A}} \\nabla_{\\theta} \\pi\\left(s_{0}, a_{0} ; \\theta\\right) \\cdot Q^{\\pi}\\left(s_{0}, a_{0}\\right) \\cdot d a_{0} \\cdot d s_{0} \\\\ +\\int_{\\mathcal{S}} p_{0}\\left(s_{0}\\right) \\int_{\\mathcal{A}} \\pi\\left(s_{0}, a_{0} ; \\theta\\right) \\cdot \\nabla_{\\theta} Q^{\\pi}\\left(s_{0}, a_{0}\\right) \\cdot d a_{0} \\cdot d s_{0} \\end{aligned} $$\n",
    "\n",
    "Expand with proper equation of $Q$ in terms of value functions we get:\n",
    "\n",
    "$$ \\begin{array}{l}\\nabla_{\\theta} J(\\theta){=\\int_{\\mathcal{S}} p_{0}\\left(s_{0}\\right) \\int_{\\mathcal{A}} \\nabla_{\\theta} \\pi\\left(s_{0}, a_{0} ; \\theta\\right) \\cdot Q^{\\pi}\\left(s_{0}, a\\right) \\cdot d a_{0} \\cdot d s_{0}} \\\\ {+\\int_{\\mathcal{S}} p_{0}\\left(s_{0}\\right) \\int_{\\mathcal{A}} \\pi\\left(s_{0}, a_{0} ; \\theta\\right) \\int_{\\mathcal{S}} \\gamma \\cdot \\mathcal{P}_{s, s_{1}}^{a_{0}} \\cdot \\nabla_{\\theta} V^{\\pi}\\left(s_{1}\\right) \\cdot d s_{1} \\cdot d a_{0} \\cdot d s_{0}}\\end{array} $$\n",
    "\n",
    "Exchange the sequence of operators $\\int_{\\mathcal{A}}$ and $\\int_{\\mathcal{S}}$:\n",
    "\n",
    "$$ \\begin{array}{l}{RHS=\\int_{\\mathcal{S}} p_{0}\\left(s_{0}\\right) \\int_{\\mathcal{A}} \\nabla_{\\theta} \\pi\\left(s_{0}, a_{0} ; \\theta\\right) \\cdot Q^{\\pi}\\left(s_{0}, a_{0}\\right) \\cdot d a_{0} \\cdot d s_{0}} \\\\ {+\\int_{\\mathcal{S}}\\left(\\int_{\\mathcal{S}} \\gamma \\cdot p_{0}\\left(s_{0}\\right) \\int_{\\mathcal{A}} \\pi\\left(s_{0}, a_{0} ; \\theta\\right) \\cdot \\mathcal{P}_{s_{0}, s_{1}}^{a_{0}} \\cdot d a_{0} \\cdot d s_{0}\\right) \\cdot \\nabla_{\\theta} V^{\\pi}\\left(s_{1}\\right) \\cdot d s_{1}}\\end{array} $$\n",
    "\n",
    "This has similar form as we started: we are calculating the gradient of $\\int_{\\mathcal{A}} \\pi \\cdot Q^{\\pi} \\cdot d a$.\n",
    "\n",
    "Thus, what we need to do is to follow the same strategy, and continue this iteration: $$ \\begin{array}{l}{=\\int_{\\mathcal{S}} p_{0}\\left(s_{0}\\right) \\int_{\\mathcal{A}} \\cdot \\nabla_{\\theta} \\pi\\left(s_{0}, a_{0} ; \\theta\\right) \\cdot Q^{\\pi}\\left(s_{0}, a_{0}\\right) \\cdot d a_{0} \\cdot d s_{0}} \\\\ {+\\int_{\\mathcal{S}} \\int_{\\mathcal{S}} \\gamma p_{0}\\left(s_{0}\\right) p\\left(s_{0} \\rightarrow s_{1}, 1, \\pi\\right) d s_{0}\\left(\\int_{\\mathcal{A}} \\nabla_{\\theta} \\pi\\left(s_{1}, a_{1} ; \\theta\\right) Q^{\\pi}\\left(s_{1}, a_{1}\\right) d a_{1}+\\ldots\\right) d s_{1}}\\end{array} $$\n",
    "\n",
    "Finally we get: $$ =\\sum_{t=0}^{\\infty} \\int_{\\mathcal{S}} \\int_{\\mathcal{S}} \\gamma^{t} \\cdot p_{0}\\left(s_{0}\\right) \\cdot p\\left(s_{0} \\rightarrow s_{t}, t, \\pi\\right) \\cdot d s_{0} \\int_{\\mathcal{A}} \\nabla_{\\theta} \\pi\\left(s_{t}, a_{t} ; \\theta\\right) \\cdot Q^{\\pi}\\left(s_{t}, a_{t}\\right) \\cdot d a_{t} \\cdot d s_{t} $$\n",
    "\n",
    "Bring $\\sum_{t=0}^{\\infty}$ inside the two integration $$ =\\int_{\\mathcal{S}} \\int_{\\mathcal{S}} \\sum_{t=0}^{\\infty} \\gamma^{t} \\cdot p_{0}\\left(s_{0}\\right) \\cdot p\\left(s_{0} \\rightarrow s, t, \\pi\\right) \\cdot d s_{0} \\int_{\\mathcal{A}} \\nabla_{\\theta} \\pi(s, a ; \\theta) \\cdot Q^{\\pi}(s, a) \\cdot d a \\cdot d s $$\n",
    "\n",
    "Inserting $\\int_{\\mathcal{S}} \\sum_{t=0}^{\\infty} \\gamma^{t} \\cdot p_{0}\\left(s_{0}\\right) \\cdot p\\left(s_{0} \\rightarrow s, t, \\pi\\right) \\cdot d s_{0} \\stackrel{\\mathrm{def}}{=} \\rho^{\\pi}(s)$, we can get: \n",
    "\n",
    "$$ {\\nabla_{\\theta} J(\\theta)=\\int_{\\mathcal{S}} \\rho^{\\pi}(s) \\int_{\\mathcal{A}} \\nabla_{\\theta} \\pi(s, a ; \\theta) \\cdot Q^{\\pi}(s, a) \\cdot d a \\cdot d s} $$\n",
    "\n",
    "QED."
   ]
  },
  {
   "cell_type": "markdown",
   "metadata": {},
   "source": [
    "### 12.1.2 Write Proof (with proper notation) of the Compatible Function Approximation Theorem"
   ]
  },
  {
   "cell_type": "markdown",
   "metadata": {},
   "source": [
    "- The following deduction is based on this assumption: $$ \\nabla_{w} Q(s, a ; w)=\\nabla_{\\theta} \\log \\pi(s, a ; \\theta) $$\n",
    "\n",
    "- We need to decide w to minimize this error: $$ \\epsilon=\\int_{\\mathcal{S}} \\rho^{\\pi}(s) \\int_{\\mathcal{A}} \\pi(s, a ; \\theta)\\left(Q^{\\pi}(s, a)-Q(s, a ; w)\\right)^{2} \\cdot d a \\cdot d s $$\n",
    "\n",
    "- Following the assumption we made at first, we have a new form:\n",
    "\n",
    "$$ \\nabla_{\\theta} J(\\theta)=\\int_{\\mathcal{S}} \\rho^{\\pi}(s) \\int_{\\mathcal{A}} \\nabla_{\\theta} \\pi(s, a ; \\theta) \\cdot Q(s, a ; w) \\cdot d a \\cdot d s $$\n",
    "\n",
    "So we only need to expand this gradient:\n",
    "$$ \\begin{array}{c}{\\epsilon=\\int_{\\mathcal{S}} \\rho^{\\pi}(s) \\int_{\\mathcal{A}} \\pi(s, a ; \\theta) \\cdot\\left(Q^{\\pi}(s, a)-Q(s, a ; w)\\right)^{2} \\cdot d a \\cdot d s} \\\\ {\\int_{\\mathcal{S}} \\rho^{\\pi}(s) \\int_{\\mathcal{A}} \\pi(s, a ; \\theta) \\cdot\\left(Q^{\\pi}(s, a)-Q(s, a ; w)\\right) \\cdot \\nabla_{w} Q(s, a ; w) \\cdot d a \\cdot d s=0}\\end{array} $$\n",
    "\n",
    "Due to $\\nabla_{w} Q(s, a ; w)=\\nabla_{\\theta} \\log \\pi(s, a ; \\theta)$, we can get: $$ \\int_{\\mathcal{S}} \\rho^{\\pi}(s) \\int_{\\mathcal{A}} \\pi(s, a ; \\theta) \\cdot\\left(Q^{\\pi}(s, a)-Q(s, a ; w)\\right) \\cdot \\nabla_{\\theta} \\log \\pi(s, a ; \\theta) \\cdot d a \\cdot d s=0 $$\n",
    "\n",
    "Thus: $$ \\begin{array}{c}{\\int_{\\mathcal{S}} \\rho^{\\pi}(s) \\int_{\\mathcal{A}} \\pi(s, a ; \\theta) \\cdot Q^{\\pi}(s, a) \\cdot \\nabla_{\\theta} \\log \\pi(s, a ; \\theta) \\cdot d a \\cdot d s} \\\\ {=\\int_{\\mathcal{S}} \\rho^{\\pi}(s) \\int_{\\mathcal{A}} \\pi(s, a ; \\theta) \\cdot Q(s, a ; w) \\cdot \\nabla_{\\theta} \\log \\pi(s, a ; \\theta) \\cdot d a \\cdot d s}\\end{array} $$\n",
    "\n",
    "We know that: $$\\nabla_{\\theta} J(\\theta)=\\int_{\\mathcal{S}} \\rho^{\\pi}(s) \\int_{\\mathcal{A}} \\pi(s, a ; \\theta) \\cdot Q^{\\pi}(s, a) \\cdot \\nabla_{\\theta} \\log \\pi(s, a ; \\theta) \\cdot d a \\cdot d s $$\n",
    "\n",
    "So, combine these together: $$ \\begin{aligned}\\nabla_{\\theta} J(\\theta) &amp;=\\int_{\\mathcal{S}} \\rho^{\\pi}(s) \\int_{\\mathcal{A}} \\pi(s, a ; \\theta) \\cdot Q(s, a ; w) \\cdot \\nabla_{\\theta} \\log \\pi(s, a ; \\theta) \\cdot d a \\cdot d s \\\\ &amp;=\\int_{\\mathcal{S}} \\rho^{\\pi}(s) \\int_{\\mathcal{A}} \\nabla_{\\theta} \\pi(s, a ; \\theta) \\cdot Q(s, a ; w) \\cdot d a \\cdot d s \\end{aligned} $$"
   ]
  }
 ],
 "metadata": {
  "kernelspec": {
   "display_name": "Python 3",
   "language": "python",
   "name": "python3"
  },
  "language_info": {
   "codemirror_mode": {
    "name": "ipython",
    "version": 3
   },
   "file_extension": ".py",
   "mimetype": "text/x-python",
   "name": "python",
   "nbconvert_exporter": "python",
   "pygments_lexer": "ipython3",
   "version": "3.7.4"
  }
 },
 "nbformat": 4,
 "nbformat_minor": 2
}
