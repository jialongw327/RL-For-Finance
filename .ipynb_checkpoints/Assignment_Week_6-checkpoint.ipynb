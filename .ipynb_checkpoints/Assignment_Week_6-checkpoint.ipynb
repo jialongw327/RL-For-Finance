{
 "cells": [
  {
   "cell_type": "markdown",
   "metadata": {},
   "source": [
    "# Pricing and Hedging "
   ]
  },
  {
   "cell_type": "markdown",
   "metadata": {},
   "source": [
    "## 7.1 Black Scholes Equation"
   ]
  },
  {
   "cell_type": "markdown",
   "metadata": {},
   "source": [
    "### 7.1.1 Ito's Lemma"
   ]
  },
  {
   "cell_type": "markdown",
   "metadata": {},
   "source": [
    "If a stochastoc variable satisfies the stochastic differential equation (SDE):\n",
    "\n",
    "$$ dx_t= \\mu(x_t, t) \\, dt + \\sigma(x_t, t) \\, dZ_t $$, \n",
    "\n",
    "then given any function $f(x_t, t)$ of the stochastic variable $x_t$, which is twice differentiable in its first argument and once in its second:\n",
    "\n",
    "$$  df = \\left(\\frac{\\partial f}{\\partial t} + \\mu(x_t, t)\\frac{\\partial f}{\\partial x} + \\frac{\\sigma(x_t, t)^2}{2}\\frac{\\partial^2 f}{\\partial x^2}\\right)dt + \\sigma(x_t, t)\\frac{\\partial f}{\\partial x}\\,dZ_t $$\n",
    "\n"
   ]
  },
  {
   "cell_type": "markdown",
   "metadata": {},
   "source": [
    "### 7.1.2 Derivation"
   ]
  },
  {
   "cell_type": "markdown",
   "metadata": {},
   "source": [
    "Given a European call option $C(S,t)$, with expiry $T$ and strike price K, on a stock with price $S$ that follows a geometric Brownian motion, and with $r$ being the continuously compounding risk-free interest rate,\n",
    "\n",
    "$$ dS_t= \\mu(x_t, t) S_t \\, dt + \\sigma(x_t, t) S_t  \\, dZ_t $$\n",
    "\n",
    "$$dC = \\left(\\frac{\\partial C}{\\partial t} + \\mu S\\frac{\\partial C}{\\partial S} + \\frac{1}{2}\\sigma^2 S^2 \\frac{\\partial^2 C}{\\partial S^2}\\right) dt  +\\sigma S \\frac{\\partial C}{\\partial S}dZ_t  $$\n",
    "\n",
    "Now consider a portfolio consisting of the call option and $\\alpha $stocks. Then the cost of the portfolio is $C+\\alpha S$. By the same argument as above, we see that\n",
    "\n",
    "$$d(C+\\alpha S)  = \\left(\\frac{\\partial C}{\\partial t} + \\mu S\\frac{\\partial C}{\\partial S} + \\frac{1}{2}\\sigma^2 S^2 \\frac{\\partial^2 C}{\\partial S^2} + \\alpha \\mu S \\right) dt  +\\sigma S \\left(\\frac{\\partial C}{\\partial S} + \\alpha\\right) dZ_t  $$\n",
    "\n",
    "Now we let $\\alpha = - \\frac{\\partial C}{\\partial t}$ to hedge away all risk in our portfolio\n",
    "$$d(C+\\alpha S) = \\left(\\frac{\\partial C}{\\partial t}+\\frac{1}{2}\\sigma^2 S^2 \\frac{\\partial^2 C}{\\partial S^2}\\right) dt$$\n",
    "\n",
    "As one can see, the random component dWt, is now gone. The portfolio has no riskor randomness. This is an important result, for, since it is risk-free, it must grow over time at the risk-free rate $r$. Thus, $\\frac{d}{dt}(C+\\alpha S) = r(C+\\alpha S)  =  r \\left(C - \\frac{\\partial C}{\\partial t} S \\right)$\n",
    "\n",
    "Plug into the equation we find that\n",
    "$$r\\left(C - \\frac{\\partial C}{\\partial t} S\\right) = \\frac{\\partial C}{\\partial t}+\\frac{1}{2}\\sigma^2 S^2 \\frac{\\partial^2 C}{\\partial S^2}$$\n",
    "\n",
    "Rearranging gives us the Black-Scholes equation：\n",
    "$$ \\frac{\\partial C}{\\partial t}+ r S \\frac{\\partial C}{\\partial S}+ \\frac{1}{2}\\sigma^2 S^2 \\frac{\\partial^2 C}{\\partial S^2} = r C $$"
   ]
  },
  {
   "cell_type": "markdown",
   "metadata": {},
   "source": [
    "### 7.1.3 Put-Call Parity"
   ]
  },
  {
   "cell_type": "markdown",
   "metadata": {},
   "source": [
    "Let $C(t)$ be the value of a European call optionon an asset $S$ with strike price $K$ and expiration $T$. Let $P(t)$ be the value of a European put option on the same asset $S$ with the same strike price and expiration.Finally, let $S$ have a final value at expiration of $S_T$, and let $B(t,T)$ represent the value of a risk-free bond at time $t$ with final value 1 at expiration time $T$. If these assumptions hold and there is no arbitrage, then\n",
    "\n",
    "$$C(t) + K B(t, T)= P(t) + S_t $$\n",
    "\n",
    "Solving the Black-Scholes equation we will have the European call option price at time $t = 0$ as\n",
    "$$ C(0) = S_0 N\\left(\\frac{rT + \\frac{\\nu^2 T}{2} + \\ln{\\frac{S_0}{K}}}{\\nu \\sqrt{T}}\\right) - K e^{-r T} N\\left(\\frac{rT - \\frac{\\nu^2 T}{2} + \\ln{\\frac{S_0}{K}}}{\\nu \\sqrt{T}}\\right) $$\n",
    "\n",
    "where $N$ is the cumulative distribution function of the standard normal variable and $\\sigma = \\nu^2 t $。\n",
    "\n",
    "Since $P(0) = C(0) - S_0 + K e^{-r T}$, we find that\n",
    "\n",
    "$$  P(0) = -S_0 N\\left(\\frac{rT + \\frac{\\nu^2 T}{2} + \\ln{\\frac{S_0}{K}}}{\\nu \\sqrt{T}}\\right) + K e^{-r T} N\\left(\\frac{rT - \\frac{\\nu^2 T}{2} + \\ln{\\frac{S_0}{K}}}{\\nu \\sqrt{T}}\\right) $$"
   ]
  },
  {
   "cell_type": "code",
   "execution_count": 1,
   "metadata": {},
   "outputs": [],
   "source": [
    "from typing import Tuple\n",
    "import numpy as np\n",
    "from scipy.stats import norm\n",
    "\n",
    "class option:\n",
    "    def __init__(self, s: float, k: float, r: float, T: int, t: int, mu: float, sigma: float) -> None:\n",
    "        self.s = s\n",
    "        self.k = k\n",
    "        self.r = r\n",
    "        self.T = T\n",
    "        self.t = t\n",
    "        self.mu = mu\n",
    "        self.sigma = sigma\n",
    "        self.d1, self.d2 = get_d1_d2()\n",
    "        \n",
    "    def get_d1_d2(self) -> Tuple[float, float]:\n",
    "        d1 = (np.log(self.s / self.k) + (self.r + 0.5 * self.sigma ** 2) * (self.T-self.t)) / (self.sigma * np.sqrt(self.T-self.t))\n",
    "        d2 = d1 - self.sigma * np.sqrt(self.T - self.t) \n",
    "        return d1, d2\n",
    "        \n",
    "    def call(self) -> float:\n",
    "        return (self.s * norm.cdf(self.d1, 0, 1) - self.k * np.exp(-self.r * (self.T-self.t)) * norm.cdf(self.d2, 0, 1))\n",
    "        \n",
    "    def put(self) -> float:\n",
    "        return (self.k * np.exp(-self.r * (self.T-self.t)) * norm.cdf(-self.d2, 0, 1) - self.s * norm.cdf(-self.d1, 0, 1))\n"
   ]
  },
  {
   "cell_type": "markdown",
   "metadata": {},
   "source": [
    "### 7.1.4 Greeks"
   ]
  },
  {
   "cell_type": "markdown",
   "metadata": {},
   "source": [
    "Call:\n",
    "- Delta:\n",
    "$$\\Delta = \\frac{\\partial V}{\\partial S} =  e^{-q \\tau} \\Phi(d_1)$$\n",
    "- Vega\n",
    "$$\\mathcal{V}=\\frac{\\partial V}{\\partial \\sigma} = S e^{-q \\tau} \\phi(d_1) \\sqrt{\\tau} = K e^{-r \\tau} \\phi(d_2) \\sqrt{\\tau}$$\n",
    "- Theta\n",
    "$$\\Theta = -\\frac{\\partial V}{\\partial \\tau} = - e^{-q \\tau} \\frac{S \\phi(d_1) \\sigma}{2 \\sqrt{\\tau}} - rKe^{-r \\tau}\\Phi(d_2) + qSe^{-q \\tau}\\Phi(d_1)$$\n",
    "- Rho\n",
    "$$\\rho =\\frac{\\partial V}{\\partial r}  = K \\tau e^{-r \\tau}\\Phi(d_2) $$\n",
    "\n",
    "Put:\n",
    "- Delta:\n",
    "$$\\Delta = -e^{-q \\tau} \\Phi(-d_1)$$\n",
    "- Vega\n",
    "$$\\mathcal{V} = S e^{-q \\tau} \\phi(d_1) \\sqrt{\\tau} = K e^{-r \\tau} \\phi(d_2) \\sqrt{\\tau}$$\n",
    "- Theta\n",
    "$$\\Theta = - e^{-q \\tau}\\frac{S \\phi(d_1) \\sigma}{2 \\sqrt{\\tau}} + rKe^{-r \\tau}\\Phi(-d_2) - qSe^{-q \\tau}\\Phi(-d_1) $$\n",
    "- Rho\n",
    "$$\\rho =  -K \\tau e^{-r \\tau}\\Phi(-d_2) $$"
   ]
  }
 ],
 "metadata": {
  "kernelspec": {
   "display_name": "Python 3",
   "language": "python",
   "name": "python3"
  },
  "language_info": {
   "codemirror_mode": {
    "name": "ipython",
    "version": 3
   },
   "file_extension": ".py",
   "mimetype": "text/x-python",
   "name": "python",
   "nbconvert_exporter": "python",
   "pygments_lexer": "ipython3",
   "version": "3.7.4"
  }
 },
 "nbformat": 4,
 "nbformat_minor": 2
}
