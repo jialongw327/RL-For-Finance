{
 "cells": [
  {
   "cell_type": "markdown",
   "metadata": {},
   "source": [
    "# Optimal Allocation and Consumption"
   ]
  },
  {
   "cell_type": "markdown",
   "metadata": {},
   "source": [
    "## 6.1 Merton's Portfolio"
   ]
  },
  {
   "cell_type": "markdown",
   "metadata": {},
   "source": [
    "### 6.1.1 Problem Statement"
   ]
  },
  {
   "cell_type": "markdown",
   "metadata": {},
   "source": [
    "Information and assumptions: \n",
    "- In a lifetime of (deterministic) $T$ years, one can invest in (allocate to) $n$ risky assets and a riskless asset with known normal distribution of returns. \n",
    "- Current Wealth plus present value of the future income (less debt) is $W_0 > 0$.\n",
    "- Allowed to long or short any fractional quantities of assets.\n",
    "- Trading in continuous time $0\\leq t <T$, with no transaction costs.\n",
    "\n",
    "Goal: To maximize lifetime-aggregated utility of consumption."
   ]
  },
  {
   "cell_type": "markdown",
   "metadata": {},
   "source": [
    "### 6.1.2 Problem Notation"
   ]
  },
  {
   "cell_type": "markdown",
   "metadata": {},
   "source": [
    "- Riskless Asset: $dR_t = r \\cdot R_t \\cdot dt$\n",
    "- Risky Asset (Geometric Brownian): $dS_t = \\mu \\cdot S_t \\cdot dt + \\sigma \\cdot S_t \\cdot dZ_t $\n",
    "- Wealth: $W_t$\n",
    "- Fraction of wealth allocated to risky asset: $\\pi_t = \\pi(t,W_t)$ (so $1-\\pi(t,W_t)$ in riskless asset)\n",
    "- Wealth consumption per unit time denoted: $c_t = c(t,W_t) \\geq 0$\n",
    "- Utility of Consumption function:\n",
    "$$U(x) = \\frac{x^{1-\\gamma}}{1- \\gamma},  \\ \\ \\text{for} \\ \\  0< \\gamma \\neq 1$$\n",
    "$$U(x) = \\log{(x)}, \\ \\ \\text{for} \\ \\ \\gamma = 1$$\n",
    "\n",
    "Balance constraint implies the following process for Wealth $Wt$:\n",
    "$$ dW_t = ((\\pi_t \\cdot(\\mu - r) + r) \\cdot W_t - c_t)dt + \\sigma \\cdot W_t \\cdot dZ_t $$"
   ]
  },
  {
   "cell_type": "markdown",
   "metadata": {},
   "source": [
    "### 6.1.3 Continuous-Time Stochastic Control"
   ]
  },
  {
   "cell_type": "markdown",
   "metadata": {},
   "source": [
    "\n",
    "- State ${(t, W_t)}$, denoting the time step $t$ and the wealth $W_t$ at that time.\n",
    "- Action ${[\\pi_t, c_t]}$, where $\\pi_t$ denotes the amount spent in risky asset, $c_t$ denotes the amount on consumption\n",
    "- Reward ${U(c_t)}$, denoting the utility of consumption at time t.\n",
    "- Return is the usual accumulated discounted Reward\n",
    "- Bequest function ${\\epsilon^\\gamma}$\n",
    "- Goal: Find Policy: $(t,Wt) \\rightarrow [\\pi_t,c_t]$ that maximizes Final Discounted Value Function $$ V^* = {E\\left[\\int_{t}^{T}\\frac{e^{-\\rho(s-t)c_s^{1-\\gamma}}}{1-\\gamma} ds + \\frac{e^{-\\rho(T - t)\\epsilon^{\\gamma}W_T^{1-\\gamma}}}{1-\\gamma}\\right]}$$ \n",
    "Note that $c_t \\geq 0$ but $\\pi_t$ is unconstrained. \n"
   ]
  }
 ],
 "metadata": {
  "kernelspec": {
   "display_name": "Python 3",
   "language": "python",
   "name": "python3"
  },
  "language_info": {
   "codemirror_mode": {
    "name": "ipython",
    "version": 3
   },
   "file_extension": ".py",
   "mimetype": "text/x-python",
   "name": "python",
   "nbconvert_exporter": "python",
   "pygments_lexer": "ipython3",
   "version": "3.7.4"
  }
 },
 "nbformat": 4,
 "nbformat_minor": 2
}
