{
 "cells": [
  {
   "cell_type": "markdown",
   "metadata": {},
   "source": [
    "# Assignment 4"
   ]
  },
  {
   "cell_type": "markdown",
   "metadata": {},
   "source": [
    "## 5.1 Utility Theory"
   ]
  },
  {
   "cell_type": "markdown",
   "metadata": {},
   "source": [
    "### 5.1.1 Utility Consumption"
   ]
  },
  {
   "cell_type": "markdown",
   "metadata": {},
   "source": [
    "Utility of Consumption and Certainty-Equivalent Value Marginal Satisfaction of eating cookies is a diminishing function. Hence, Accumulated Satisfaction is a concave function: Accumulated Satisfaction represents Utility of Consumption $U(x)$. The properties and related parameters are:\n",
    "\n",
    "\n",
    "- Utility function is concanve: $E[U(x)] \\leq U(E[x])$\n",
    "- Certainty-Equivalent Value: $x_{CE}=U^{-1}(E[U(x)])$\n",
    "- Absolute Risk-Premium: $\\pi_A=E[x]-x_{CE}$\n",
    "- Relative Risk-Premium: $\\pi_R=\\frac{\\pi_A}{E(x)}=1-\\frac{x_{CE}}{E[x]}$\n",
    "\n",
    "\n"
   ]
  },
  {
   "cell_type": "markdown",
   "metadata": {},
   "source": [
    "### 5.1.2 Risk Premium"
   ]
  },
  {
   "cell_type": "markdown",
   "metadata": {},
   "source": [
    "We refer to $E[x] = \\bar{x}$ and variance of $x$ as $\\sigma_x^2$.\n",
    "- Taylor expand $U(x)$ around $\\bar{x}$ and ignore higher-order terms beyonf quadratic we get\n",
    "$$U(x) = U(\\bar{x}) + U'(\\bar{x})(x - \\bar{x}) + \\frac{1}{2}U''(\\bar{x})(x - \\bar{x})^2$$\n",
    "- Taylor expand $U(x_{ce})$ around $\\bar{x}$ and ignore terms beyond linear we get,\n",
    "$$U(x_{CE}) = U(\\bar{x}) + U'(\\bar{x})(x_{CE} - \\bar{x}) $$\n",
    "- Taking the expectation of the $U(x)$ expansion, we get:\n",
    "$$E[U(x)] =  U(\\bar{x}) + \\frac{1}{2}U''(\\bar{x})(x - \\bar{x})^2$$\n",
    "- Since $E[U(x)] =U(x_{CE})$, the above two expressions are approximately equal. Hence,\n",
    "$$ U'(\\bar{x})(x_{CE} - \\bar{x}) = \\frac{1}{2}U''(\\bar{x})(x - \\bar{x})^2 $$\n",
    "- Therefore the risk premium is \n",
    "$$\\pi_A = \\bar{x} - x_{CE} \\approx - \\frac{1}{2}\\frac{U''(\\bar x)}{U'(\\bar x)} \\cdot \\sigma_x^2$$"
   ]
  },
  {
   "cell_type": "markdown",
   "metadata": {},
   "source": [
    "### 5.1.3 Risk Aversion"
   ]
  },
  {
   "cell_type": "markdown",
   "metadata": {},
   "source": [
    "Given that $\\pi_A = \\bar{x} - x_{CE} \\approx - \\frac{1}{2}\\frac{U''(\\bar x)}{U'(\\bar x)} \\cdot \\sigma_x^2$,\n",
    "\n",
    "- Absolute Risk-Aversion: $A(x)=-\\frac{U''(x)}{U'(x)}$, $\\pi_A \\approx \\frac{1}{2}A(\\bar x) \\cdot \\sigma_x^2$, \n",
    "    $\\pi_R=\\frac{\\pi_A}{\\bar x}\\approx -\\frac{1}{2}\\frac{U''(\\bar x)\\bar x}{U'(\\bar x)}\\cdot\\sigma_{\\tfrac{x}{\\bar x}}^2$\n",
    "- Relative Risk-Aversion: $R(x)=-\\frac{U''(x)x}{U'(x)}$, $\\pi_R\\approx \\frac{1}{2}R(\\bar x)\\cdot\\sigma_{\\tfrac{x}{\\bar x}}^2$"
   ]
  },
  {
   "cell_type": "markdown",
   "metadata": {},
   "source": [
    "## 5.2 Typical Utility Functions"
   ]
  },
  {
   "cell_type": "markdown",
   "metadata": {},
   "source": [
    "### 5.2.1 Constant Absolute Risk-Aversion (CARA)"
   ]
  },
  {
   "cell_type": "markdown",
   "metadata": {},
   "source": [
    "$$U(x)=\\frac{-e^{-ax}}{a}, a \\ne 0$$\n",
    "\n",
    "- The absolute risk-aversion is: $A(x)=a$.\n",
    "- Assume $x\\sim\\mathcal N(\\mu,\\sigma^2)$, we have:\n",
    "    $$E[U(x)]=\\left\\{ \\begin{array}{lcl} \\frac{-e^{-a\\mu+\\frac{a^2\\sigma^2}{2}}}{a} & \\quad {a\\ne0}\\\\ \\mu & \\quad {a=0}\\\\ \\end{array} \\right. $$\n",
    "- Then $x_{CE}=\\mu-\\frac{a\\sigma^2}{2}$, absolute risk-premium is $\\pi_A=\\frac{a\\sigma^2}{2}$.\n"
   ]
  },
  {
   "cell_type": "markdown",
   "metadata": {},
   "source": [
    "### 5.2.2 Constant Relative Risk-Aversion (CRRA)"
   ]
  },
  {
   "cell_type": "markdown",
   "metadata": {},
   "source": [
    "$$U(x)=\\frac{x^{1-\\gamma}}{1-\\gamma}, \\gamma \\ne 1$$\n",
    "\n",
    "- The relative risk-aversion is: $R(x)=\\gamma$.\n",
    "- Assume the random outcome is lognormal, with $\\log(x)\\sim\\mathcal N(\\mu,\\sigma^2)$, we have: $$E[U(x)]=\\left\\{ \\begin{array}{lcl} \\frac{e^{\\mu(1-\\gamma)+\\frac{\\sigma^2}{2}(1-\\gamma)^2}}{1-\\gamma}  & \\quad {\\gamma\\ne1}\\\\ \\mu  & \\quad {\\gamma=0}\\\\ \\end{array} \\right. $$\n",
    "- Then $x_{CE}=e^{\\mu+\\frac{\\sigma^2}{2}(1-\\gamma)}$, relative riks-premium is $\\pi_R=1-\\frac{x_{CE}}{\\bar x}=1-e^{-\\frac{\\sigma^2\\gamma}{2}}$.\n"
   ]
  },
  {
   "cell_type": "markdown",
   "metadata": {},
   "source": [
    "## 5.3 Portfolio Application"
   ]
  },
  {
   "cell_type": "markdown",
   "metadata": {},
   "source": [
    "### 5.3.1 CARA utility function"
   ]
  },
  {
   "cell_type": "markdown",
   "metadata": {},
   "source": [
    "We invest in a portfolio, containing a risky asset with a annual return of ${N(\\mu, \\sigma^2)}$, as well as a riskless asset, with a annual return(interest rate) of ${r}$ Denote ${\\pi}$ as the fraction of investment to the risky asset and therefore ${1 - \\pi}$ is the investment for the riskless asset. \n",
    "\n",
    "The portfolio will have a annual return \n",
    "\n",
    "$${W \\sim N(1 + r + \\pi(\\mu - r), \\pi^2\\sigma^2)}$$ with CARA utility of $${U(W) = \\frac{-e^{-aW}}{a}}$$\n",
    "\n",
    "We can easily plug in the definition of W into U, and we get: $${W_{CE} = 1 + r + \\pi(\\mu - r) - \\frac{a\\pi^2\\sigma^2}{a}}$$\n",
    "By taking partial derivative ragarding $\\mu$ and make it equal to 0, we can get the optimal fraction $${\\pi* = \\frac{\\mu - r}{a\\sigma^2}}$$\n"
   ]
  },
  {
   "cell_type": "markdown",
   "metadata": {},
   "source": [
    "### 5.3.2 CRRA utility function"
   ]
  },
  {
   "cell_type": "markdown",
   "metadata": {},
   "source": [
    "When we are considering this utility function: $$ U ( x ) = \\frac { x ^ { 1 - \\gamma } } { 1 - \\gamma } $$ Now, we focus on the lognormal distribution: with $\\log ( x ) \\sim \\mathcal { N } \\left( \\mu , \\sigma ^ { 2 } \\right)$, with the pdf: $${f_X(x) = \\frac{1}{x}\\frac{1}{\\sigma 2\\sqrt{\\pi}}exp(-\\frac{(lnx - \\mu)^2}{2\\sigma^2})}$$ while the expectation can be shown as: $$\\mathbb { E } [ U ( x ) ] = \\left\\{ \\begin{array} { l l } { \\frac { e ^ { \\mu ( 1 - \\gamma ) + \\frac { \\sigma ^ { 2 } } { 2 } ( 1 - \\gamma ) ^ { 2 } } } { 1 - \\gamma } } & \\quad { \\text { for } \\gamma \\neq 1 } \\\\ { \\mu } & \\quad { \\text { for } \\gamma = 1 } \\end{array} \\right. $$ \n",
    "\n",
    "$$ x _ { C E } = e ^ { \\mu + \\frac { \\sigma ^ { 2 } } { 2 } ( 1 - \\gamma ) } $$\n",
    "\n",
    "Now we model our wealth $W_t$ as such a random process:\n",
    "$$ d W _ { t } = ( r + \\pi ( \\mu - r ) ) \\cdot W _ { t } \\cdot d t + \\pi \\cdot \\sigma \\cdot W _ { t } \\cdot d z _ { t } $$\n",
    "\n",
    "Applying Ito’s Lemma on log Wt gives us: $$ \\begin{aligned} \\log W _ { t } & = \\int _ { 0 } ^ { t } \\left( r + \\pi ( \\mu - r ) - \\frac { \\pi ^ { 2 } \\sigma ^ { 2 } } { 2 } \\right) \\cdot d u + \\int _ { 0 } ^ { t } \\pi \\cdot \\sigma \\cdot d z _ { u } \\\\ & \\Rightarrow \\log W \\sim \\mathcal { N } \\left( r + \\pi ( \\mu - r ) - \\frac { \\pi ^ { 2 } \\sigma ^ { 2 } } { 2 } , \\pi ^ { 2 } \\sigma ^ { 2 } \\right) \\end{aligned} $$ From the section on CRRA Utility, we know we need to maximize: $$ \\begin{array} { c } { r + \\pi ( \\mu - r ) - \\frac { \\pi ^ { 2 } \\sigma ^ { 2 } } { 2 } + \\frac { \\pi ^ { 2 } \\sigma ^ { 2 } ( 1 - \\gamma ) } { 2 } } \\\\ { = r + \\pi ( \\mu - r ) - \\frac { \\pi ^ { 2 } \\sigma ^ { 2 } \\gamma } { 2 } } \\end{array} $$ So optimal investment fraction in risky asset $$ \\pi ^ { * } = \\frac { \\mu - r } { \\gamma \\sigma ^ { 2 } } $$\n",
    "In [ ]:\n",
    "\n",
    "\n"
   ]
  }
 ],
 "metadata": {
  "kernelspec": {
   "display_name": "Python 3",
   "language": "python",
   "name": "python3"
  },
  "language_info": {
   "codemirror_mode": {
    "name": "ipython",
    "version": 3
   },
   "file_extension": ".py",
   "mimetype": "text/x-python",
   "name": "python",
   "nbconvert_exporter": "python",
   "pygments_lexer": "ipython3",
   "version": "3.7.4"
  }
 },
 "nbformat": 4,
 "nbformat_minor": 2
}
