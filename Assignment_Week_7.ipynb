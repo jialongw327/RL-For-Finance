{
 "cells": [
  {
   "cell_type": "markdown",
   "metadata": {},
   "source": [
    "# Trade Order Execution"
   ]
  },
  {
   "cell_type": "markdown",
   "metadata": {},
   "source": [
    "## 8.1 Problem Notation"
   ]
  },
  {
   "cell_type": "markdown",
   "metadata": {},
   "source": [
    "- Time steps indexed by $t=1,...,T$\n",
    "- $P_t$ denotes Bid Price at start of time step $t$ \n",
    "- $N_t$ denotes number of shares sold in time step $t$\n",
    "- $R_t=N−\\sum{i=1}^{t−1}{N_i}$=shares remaining to be sold at start of time step $t$ \n",
    "- Note that $R_1=N$,$N_T=R_T$\n",
    "- Price Dynamics given by:\n",
    "$$P_{t+1} = f_t(P_t, N_t, \\epsilon_t)$$\n",
    "\n",
    "where $\\epsilon_t$ denotes source of randomness in Bid Price market-movement and $f_t(\\cdot)$ incorporates Permanent Price Impact of selling $N_t$ shares and Impact-independent market-movement.\n",
    "\n",
    "- Sales Proceeds in time step $t$ defined as\n",
    "$$N_t \\cdot Q_t = N_t  \\cdot \\left(P_t - g_t(P_t, N_t)\\right)  $$\n",
    "\n",
    "where $g_t(\\cdot)$ is an arbitrary func representing Temporary Price Impact.\n"
   ]
  },
  {
   "cell_type": "markdown",
   "metadata": {},
   "source": [
    "## 8.2 MDP Formulation"
   ]
  },
  {
   "cell_type": "markdown",
   "metadata": {},
   "source": [
    "- Order of MDP activity in each time step $1 \\leq t \\leq T$:\n",
    " - Observe State: $(t, P_t, R_t)$\n",
    " - Perform Action: $N_t$ (share sold)\n",
    " - Receive Reward: $U(N_t, Q_t) = U(N_t  \\cdot \\left(P_t - g_t(P_t, N_t)\\right))$\n",
    " - Experience Price Dynamics: $P_{t+1} = f_t(P_t, N_t, \\epsilon_t)$\n",
    "- Goal is to find the optimal Policy $\\pi^*(t, P_t, R_t) = N_t$ that maximizes:\n",
    "$$\\mathbb{E}\\left[\\sum_{t=1}^T{\\gamma^t \\cdot U(N_t, Q_t)}\\right]$$\n",
    "where $\\gamma$ is the MDP discount factor."
   ]
  },
  {
   "cell_type": "markdown",
   "metadata": {},
   "source": [
    "## 8.2 Linear Impact Model"
   ]
  },
  {
   "cell_type": "markdown",
   "metadata": {},
   "source": [
    "The linear impact model implies that the dynamic equation is:\n",
    "$$P_{t+1} = P_{t} - \\alpha N_t + \\epsilon_t$$\n",
    "\n",
    "and the Temporary Impact is:\n",
    "$$ Q_t  = P_t - \\beta N_t$$\n",
    "\n",
    "where $\\epsilon_t$ is i.i.d. (independent and identically distributed) and therefore permanent price impact is $\\alpha N_t$.\n",
    "\n",
    "The MDP discount factor $\\gamma$ is set to $1$."
   ]
  },
  {
   "cell_type": "code",
   "execution_count": null,
   "metadata": {},
   "outputs": [],
   "source": []
  }
 ],
 "metadata": {
  "kernelspec": {
   "display_name": "Python 3",
   "language": "python",
   "name": "python3"
  },
  "language_info": {
   "codemirror_mode": {
    "name": "ipython",
    "version": 3
   },
   "file_extension": ".py",
   "mimetype": "text/x-python",
   "name": "python",
   "nbconvert_exporter": "python",
   "pygments_lexer": "ipython3",
   "version": "3.7.4"
  }
 },
 "nbformat": 4,
 "nbformat_minor": 2
}
