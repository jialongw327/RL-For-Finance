{
 "cells": [
  {
   "cell_type": "markdown",
   "metadata": {},
   "source": [
    "# Assigment 7"
   ]
  },
  {
   "cell_type": "markdown",
   "metadata": {},
   "source": [
    "## Trade Order Execution"
   ]
  },
  {
   "cell_type": "markdown",
   "metadata": {},
   "source": [
    "## 8.1 Problem Notation"
   ]
  },
  {
   "cell_type": "markdown",
   "metadata": {},
   "source": [
    "- Time steps indexed by $t=1,...,T$\n",
    "- $P_t$ denotes Bid Price at start of time step $t$ \n",
    "- $N_t$ denotes number of shares sold in time step $t$\n",
    "- $R_t=N−\\sum{i=1}^{t−1}{N_i}$=shares remaining to be sold at start of time step $t$ \n",
    "- Note that $R_1=N$,$N_T=R_T$\n",
    "- Price Dynamics given by:\n",
    "$$P_{t+1} = f_t(P_t, N_t, \\epsilon_t)$$\n",
    "\n",
    "where $\\epsilon_t$ denotes source of randomness in Bid Price market-movement and $f_t(\\cdot)$ incorporates Permanent Price Impact of selling $N_t$ shares and Impact-independent market-movement.\n",
    "\n",
    "- Sales Proceeds in time step $t$ defined as\n",
    "$$N_t \\cdot Q_t = N_t  \\cdot \\left(P_t - g_t(P_t, N_t)\\right)  $$\n",
    "\n",
    "where $g_t(\\cdot)$ is an arbitrary func representing Temporary Price Impact.\n"
   ]
  },
  {
   "cell_type": "markdown",
   "metadata": {},
   "source": [
    "## 8.2 MDP Formulation"
   ]
  },
  {
   "cell_type": "markdown",
   "metadata": {},
   "source": [
    "- Order of MDP activity in each time step $1 \\leq t \\leq T$:\n",
    " - Observe State: $(t, P_t, R_t)$\n",
    " - Perform Action: $N_t$ (share sold)\n",
    " - Receive Reward: $U(N_t, Q_t) = U(N_t  \\cdot \\left(P_t - g_t(P_t, N_t)\\right))$\n",
    " - Experience Price Dynamics: $P_{t+1} = f_t(P_t, N_t, \\epsilon_t)$\n",
    "- Goal is to find the optimal Policy $\\pi^*(t, P_t, R_t) = N_t$ that maximizes:\n",
    "$$\\mathbb{E}\\left[\\sum_{t=1}^T{\\gamma^t \\cdot U(N_t, Q_t)}\\right]$$\n",
    "where $\\gamma$ is the MDP discount factor."
   ]
  },
  {
   "cell_type": "markdown",
   "metadata": {},
   "source": [
    "## 8.3 Linear Impact Model"
   ]
  },
  {
   "cell_type": "markdown",
   "metadata": {},
   "source": [
    "The linear impact model implies that the dynamic equation is:\n",
    "$$P_{t+1} = P_{t} - \\alpha N_t + \\epsilon_t$$\n",
    "\n",
    "and the Temporary Impact is:\n",
    "$$ Q_t  = P_t - \\beta N_t$$\n",
    "\n",
    "where $\\epsilon_t$ is i.i.d. (independent and identically distributed) and therefore permanent price impact is $\\alpha N_t$.\n",
    "\n",
    "The MDP discount factor $\\gamma$ is set to $1$."
   ]
  },
  {
   "cell_type": "markdown",
   "metadata": {},
   "source": [
    "## 8.4 Solve the Model"
   ]
  },
  {
   "cell_type": "markdown",
   "metadata": {},
   "source": [
    "- The Bellman Equation is\n",
    " $$V ^ { * } \\left( t , P _ { t } , R _ { t } \\right) = \\max _ { N _ { t } } \\left( N _ { t } \\left( P _ { t } - \\beta N _ { t } \\right) + \\mathbb { E } \\left[ V ^ { * } \\left( t + 1 , P _ { t + 1 } , R _ { t + 1 } \\right) \\right] \\right)$$ \n",
    "- The Terminal Condition is: $$ V ^ { * } \\left( T , P _ { T } , R _ { T } \\right) = R _ { T } \\left( P _ { T } - \\beta R _ { T } \\right) $$ \n",
    "- Solve the objective and optimal action for time period $T-1$: \n",
    " $$ \\begin{array} { c } { V ^ { * } \\left( T - 1 , P _ { T - 1 } , R _ { T - 1 } \\right)= \\max _ { N _ { T - 1 } } \\left\\{ N _ { T - 1 } \\left( P _ { T - 1 } - \\beta N _ { T - 1 } \\right) + \\mathbb { E } \\left[ R _ { T } \\left( P _ { T } - \\beta R _ { T } \\right) \\right] \\right\\} } \\\\ { = \\max _ { N _ { T - 1 } } \\left\\{ N _ { T - 1 } \\left( P _ { T - 1 } - \\beta N _ { T - 1 } \\right) + \\mathbb { E } \\left[ \\left( R _ { T - 1 } - N _ { T - 1 } \\right) \\left( P _ { T } - \\beta \\left( R _ { T - 1 } - N _ { T - 1 } \\right) \\right) \\right\\} \\right. } \\\\ { = \\max _ { N _ { T - 1 } } \\left\\{ N _ { T - 1 } \\left( P _ { T - 1 } - \\beta N _ { T - 1 } \\right) + \\left( R _ { T - 1 } - N _ { T - 1 } \\right) \\left( P _ { T - 1 } - \\alpha N _ { T - 1 } - \\beta \\left( R _ { T - 1 } - N _ { T - 1 } \\right) \\right) \\right) } \\end{array} $$\n",
    "- Differentiating this expression w.r.t. $N _ { T - 1 }$ and setting to 0 gives: \n",
    "$$2 N _ { T - 1 } ^ { \\star } ( \\alpha - 2 \\beta ) - R _ { T - 1 } ( \\alpha - 2 \\beta ) = 0 \\Rightarrow N _ { T - 1 } ^ { \\star } = \\frac { R _ { T - 1 } } { 2 }$$ $$ V ^ { * } \\left( T - 1 , P _ { T - 1 } , R _ { T - 1 } \\right) = R _ { T - 1 } P _ { T - 1 } - R _ { T - 1 } ^ { 2 } \\left( \\frac { \\alpha + 2 \\beta } { 4 } \\right) $$ \n",
    "- Continuing backwards in time in this manner gives: $$ \\begin{array} { c } { N _ { t } ^ { * } = \\frac { R _ { t } } { T - t + 1 } } \\\\ { V ^ { * } \\left( t , P _ { t } , R _ { t } \\right) = R _ { t } P _ { t } - \\frac { R _ { t } ^ { 2 } } { 2 } \\left( \\frac { 2 \\beta + ( T - t ) \\alpha } { T - t + 1 } \\right) } \\end{array} $$"
   ]
  },
  {
   "cell_type": "code",
   "execution_count": null,
   "metadata": {},
   "outputs": [],
   "source": []
  }
 ],
 "metadata": {
  "kernelspec": {
   "display_name": "Python 3",
   "language": "python",
   "name": "python3"
  },
  "language_info": {
   "codemirror_mode": {
    "name": "ipython",
    "version": 3
   },
   "file_extension": ".py",
   "mimetype": "text/x-python",
   "name": "python",
   "nbconvert_exporter": "python",
   "pygments_lexer": "ipython3",
   "version": "3.7.4"
  }
 },
 "nbformat": 4,
 "nbformat_minor": 2
}
