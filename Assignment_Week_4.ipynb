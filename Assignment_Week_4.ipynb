{
 "cells": [
  {
   "cell_type": "markdown",
   "metadata": {},
   "source": [
    "# Assignment 4"
   ]
  },
  {
   "cell_type": "markdown",
   "metadata": {},
   "source": [
    "## Utility Theory"
   ]
  },
  {
   "cell_type": "markdown",
   "metadata": {},
   "source": [
    "### Utility Consumption"
   ]
  },
  {
   "cell_type": "markdown",
   "metadata": {},
   "source": [
    "Utility of Consumption and Certainty-Equivalent Value Marginal Satisfaction of eating cookies is a diminishing function. Hence, Accumulated Satisfaction is a concave function: Accumulated Satisfaction represents Utility of Consumption $U(x)$. The properties and related parameters are:\n",
    "\n",
    "\n",
    "- Utility function is concanve: $E[U(x)] \\leq U(E[x])$\n",
    "- Certainty-Equivalent Value: $x_{CE}=U^{-1}(E[U(x)])$\n",
    "- Absolute Risk-Premium: $\\pi_A=E[x]-x_{CE}$\n",
    "- Relative Risk-Premium: $\\pi_R=\\frac{\\pi_A}{E(x)}=1-\\frac{x_{CE}}{E[x]}$\n",
    "\n",
    "\n"
   ]
  },
  {
   "cell_type": "markdown",
   "metadata": {},
   "source": [
    "### Risk Premium"
   ]
  },
  {
   "cell_type": "markdown",
   "metadata": {},
   "source": [
    "We refer to $E[x] = \\bar{x}$ and variance of $x$ as $\\sigma_x^2$.\n",
    "- Taylor expand $U(x)$ around $\\bar{x}$ and ignore higher-order terms beyonf quadratic we get\n",
    "$$U(x) = U(\\bar{x}) + U'(\\bar{x})(x - \\bar{x}) + \\frac{1}{2}U''(\\bar{x})(x - \\bar{x})^2$$\n",
    "- Taylor expand $U(x_{ce})$ around $\\bar{x}$ and ignore terms beyond linear we get,\n",
    "$$U(x_{CE}) = U(\\bar{x}) + U'(\\bar{x})(x_{CE} - \\bar{x}) $$\n",
    "- Taking the expectation of the $U(x)$ expansion, we get:\n",
    "$$E[U(x)] =  U(\\bar{x}) + \\frac{1}{2}U''(\\bar{x})(x - \\bar{x})^2$$\n",
    "- Since $E[U(x)] =U(x_{CE})$, the above two expressions are approximately equal. Hence,\n",
    "$$ U'(\\bar{x})(x_{CE} - \\bar{x}) = \\frac{1}{2}U''(\\bar{x})(x - \\bar{x})^2 $$\n",
    "- Therefore the risk premium is \n",
    "$$\\pi_A = \\bar{x} - x_{CE} \\approx - \\frac{1}{2}\\frac{U''(\\bar x)}{U'(\\bar x)} \\cdot \\sigma_x^2$$"
   ]
  },
  {
   "cell_type": "markdown",
   "metadata": {},
   "source": [
    "### Risk Aversion"
   ]
  },
  {
   "cell_type": "markdown",
   "metadata": {},
   "source": [
    "Given that $\\pi_A = \\bar{x} - x_{CE} \\approx - \\frac{1}{2}\\frac{U''(\\bar x)}{U'(\\bar x)} \\cdot \\sigma_x^2$,\n",
    "\n",
    "- Absolute Risk-Aversion: $A(x)=-\\frac{U''(x)}{U'(x)}$, $\\pi_A \\approx \\frac{1}{2}A(\\bar x) \\cdot \\sigma_x^2$, \n",
    "    $\\pi_R=\\frac{\\pi_A}{\\bar x}\\approx -\\frac{1}{2}\\frac{U''(\\bar x)\\bar x}{U'(\\bar x)}\\cdot\\sigma_{\\tfrac{x}{\\bar x}}^2$\n",
    "- Relative Risk-Aversion: $R(x)=-\\frac{U''(x)x}{U'(x)}$, $\\pi_R\\approx \\frac{1}{2}R(\\bar x)\\cdot\\sigma_{\\tfrac{x}{\\bar x}}^2$"
   ]
  },
  {
   "cell_type": "code",
   "execution_count": null,
   "metadata": {},
   "outputs": [],
   "source": []
  }
 ],
 "metadata": {
  "kernelspec": {
   "display_name": "Python 3",
   "language": "python",
   "name": "python3"
  },
  "language_info": {
   "codemirror_mode": {
    "name": "ipython",
    "version": 3
   },
   "file_extension": ".py",
   "mimetype": "text/x-python",
   "name": "python",
   "nbconvert_exporter": "python",
   "pygments_lexer": "ipython3",
   "version": "3.7.4"
  }
 },
 "nbformat": 4,
 "nbformat_minor": 2
}
